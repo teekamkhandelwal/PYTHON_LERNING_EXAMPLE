{
  "nbformat": 4,
  "nbformat_minor": 0,
  "metadata": {
    "colab": {
      "provenance": [],
      "authorship_tag": "ABX9TyOPjrz8XeuXEX0YocDcYapd",
      "include_colab_link": true
    },
    "kernelspec": {
      "name": "python3",
      "display_name": "Python 3"
    },
    "language_info": {
      "name": "python"
    }
  },
  "cells": [
    {
      "cell_type": "markdown",
      "metadata": {
        "id": "view-in-github",
        "colab_type": "text"
      },
      "source": [
        "<a href=\"https://colab.research.google.com/github/teekam-chand-khandelwal/PYTHON_LERNING_EXAMPLE/blob/main/eda_missing_exercise.ipynb\" target=\"_parent\"><img src=\"https://colab.research.google.com/assets/colab-badge.svg\" alt=\"Open In Colab\"/></a>"
      ]
    },
    {
      "cell_type": "code",
      "execution_count": null,
      "metadata": {
        "id": "mtDBo94Ts7wF",
        "colab": {
          "base_uri": "https://localhost:8080/",
          "height": 424
        },
        "outputId": "5382f41c-9567-4aaf-909b-9e513ac82561"
      },
      "outputs": [
        {
          "output_type": "execute_result",
          "data": {
            "text/plain": [
              "    Prefix  Assignment  Tutorial  Midterm  TakeHome  Final\n",
              "0        5       57.14     34.09    64.38     51.48  52.50\n",
              "1        8       95.05    105.49    67.50     99.07  68.33\n",
              "2        8       83.70     83.17    30.00     63.15  48.89\n",
              "3        7       81.22     96.06    49.38    105.93  80.56\n",
              "4        8       91.32     93.64    95.00    107.41  73.89\n",
              "..     ...         ...       ...      ...       ...    ...\n",
              "94       8       96.73    103.71    45.00     93.52  61.94\n",
              "95       7       85.34     80.54    41.25     93.70  39.72\n",
              "96       8       89.94    102.77    87.50     90.74  87.78\n",
              "97       7       95.60     76.13    66.25     99.81  85.56\n",
              "98       8       63.40     97.37    73.12     72.78  77.22\n",
              "\n",
              "[97 rows x 6 columns]"
            ],
            "text/html": [
              "\n",
              "  <div id=\"df-be6e3ea9-dc11-4d05-9a94-a14a23aeffa7\">\n",
              "    <div class=\"colab-df-container\">\n",
              "      <div>\n",
              "<style scoped>\n",
              "    .dataframe tbody tr th:only-of-type {\n",
              "        vertical-align: middle;\n",
              "    }\n",
              "\n",
              "    .dataframe tbody tr th {\n",
              "        vertical-align: top;\n",
              "    }\n",
              "\n",
              "    .dataframe thead th {\n",
              "        text-align: right;\n",
              "    }\n",
              "</style>\n",
              "<table border=\"1\" class=\"dataframe\">\n",
              "  <thead>\n",
              "    <tr style=\"text-align: right;\">\n",
              "      <th></th>\n",
              "      <th>Prefix</th>\n",
              "      <th>Assignment</th>\n",
              "      <th>Tutorial</th>\n",
              "      <th>Midterm</th>\n",
              "      <th>TakeHome</th>\n",
              "      <th>Final</th>\n",
              "    </tr>\n",
              "  </thead>\n",
              "  <tbody>\n",
              "    <tr>\n",
              "      <th>0</th>\n",
              "      <td>5</td>\n",
              "      <td>57.14</td>\n",
              "      <td>34.09</td>\n",
              "      <td>64.38</td>\n",
              "      <td>51.48</td>\n",
              "      <td>52.50</td>\n",
              "    </tr>\n",
              "    <tr>\n",
              "      <th>1</th>\n",
              "      <td>8</td>\n",
              "      <td>95.05</td>\n",
              "      <td>105.49</td>\n",
              "      <td>67.50</td>\n",
              "      <td>99.07</td>\n",
              "      <td>68.33</td>\n",
              "    </tr>\n",
              "    <tr>\n",
              "      <th>2</th>\n",
              "      <td>8</td>\n",
              "      <td>83.70</td>\n",
              "      <td>83.17</td>\n",
              "      <td>30.00</td>\n",
              "      <td>63.15</td>\n",
              "      <td>48.89</td>\n",
              "    </tr>\n",
              "    <tr>\n",
              "      <th>3</th>\n",
              "      <td>7</td>\n",
              "      <td>81.22</td>\n",
              "      <td>96.06</td>\n",
              "      <td>49.38</td>\n",
              "      <td>105.93</td>\n",
              "      <td>80.56</td>\n",
              "    </tr>\n",
              "    <tr>\n",
              "      <th>4</th>\n",
              "      <td>8</td>\n",
              "      <td>91.32</td>\n",
              "      <td>93.64</td>\n",
              "      <td>95.00</td>\n",
              "      <td>107.41</td>\n",
              "      <td>73.89</td>\n",
              "    </tr>\n",
              "    <tr>\n",
              "      <th>...</th>\n",
              "      <td>...</td>\n",
              "      <td>...</td>\n",
              "      <td>...</td>\n",
              "      <td>...</td>\n",
              "      <td>...</td>\n",
              "      <td>...</td>\n",
              "    </tr>\n",
              "    <tr>\n",
              "      <th>94</th>\n",
              "      <td>8</td>\n",
              "      <td>96.73</td>\n",
              "      <td>103.71</td>\n",
              "      <td>45.00</td>\n",
              "      <td>93.52</td>\n",
              "      <td>61.94</td>\n",
              "    </tr>\n",
              "    <tr>\n",
              "      <th>95</th>\n",
              "      <td>7</td>\n",
              "      <td>85.34</td>\n",
              "      <td>80.54</td>\n",
              "      <td>41.25</td>\n",
              "      <td>93.70</td>\n",
              "      <td>39.72</td>\n",
              "    </tr>\n",
              "    <tr>\n",
              "      <th>96</th>\n",
              "      <td>8</td>\n",
              "      <td>89.94</td>\n",
              "      <td>102.77</td>\n",
              "      <td>87.50</td>\n",
              "      <td>90.74</td>\n",
              "      <td>87.78</td>\n",
              "    </tr>\n",
              "    <tr>\n",
              "      <th>97</th>\n",
              "      <td>7</td>\n",
              "      <td>95.60</td>\n",
              "      <td>76.13</td>\n",
              "      <td>66.25</td>\n",
              "      <td>99.81</td>\n",
              "      <td>85.56</td>\n",
              "    </tr>\n",
              "    <tr>\n",
              "      <th>98</th>\n",
              "      <td>8</td>\n",
              "      <td>63.40</td>\n",
              "      <td>97.37</td>\n",
              "      <td>73.12</td>\n",
              "      <td>72.78</td>\n",
              "      <td>77.22</td>\n",
              "    </tr>\n",
              "  </tbody>\n",
              "</table>\n",
              "<p>97 rows × 6 columns</p>\n",
              "</div>\n",
              "      <button class=\"colab-df-convert\" onclick=\"convertToInteractive('df-be6e3ea9-dc11-4d05-9a94-a14a23aeffa7')\"\n",
              "              title=\"Convert this dataframe to an interactive table.\"\n",
              "              style=\"display:none;\">\n",
              "        \n",
              "  <svg xmlns=\"http://www.w3.org/2000/svg\" height=\"24px\"viewBox=\"0 0 24 24\"\n",
              "       width=\"24px\">\n",
              "    <path d=\"M0 0h24v24H0V0z\" fill=\"none\"/>\n",
              "    <path d=\"M18.56 5.44l.94 2.06.94-2.06 2.06-.94-2.06-.94-.94-2.06-.94 2.06-2.06.94zm-11 1L8.5 8.5l.94-2.06 2.06-.94-2.06-.94L8.5 2.5l-.94 2.06-2.06.94zm10 10l.94 2.06.94-2.06 2.06-.94-2.06-.94-.94-2.06-.94 2.06-2.06.94z\"/><path d=\"M17.41 7.96l-1.37-1.37c-.4-.4-.92-.59-1.43-.59-.52 0-1.04.2-1.43.59L10.3 9.45l-7.72 7.72c-.78.78-.78 2.05 0 2.83L4 21.41c.39.39.9.59 1.41.59.51 0 1.02-.2 1.41-.59l7.78-7.78 2.81-2.81c.8-.78.8-2.07 0-2.86zM5.41 20L4 18.59l7.72-7.72 1.47 1.35L5.41 20z\"/>\n",
              "  </svg>\n",
              "      </button>\n",
              "      \n",
              "  <style>\n",
              "    .colab-df-container {\n",
              "      display:flex;\n",
              "      flex-wrap:wrap;\n",
              "      gap: 12px;\n",
              "    }\n",
              "\n",
              "    .colab-df-convert {\n",
              "      background-color: #E8F0FE;\n",
              "      border: none;\n",
              "      border-radius: 50%;\n",
              "      cursor: pointer;\n",
              "      display: none;\n",
              "      fill: #1967D2;\n",
              "      height: 32px;\n",
              "      padding: 0 0 0 0;\n",
              "      width: 32px;\n",
              "    }\n",
              "\n",
              "    .colab-df-convert:hover {\n",
              "      background-color: #E2EBFA;\n",
              "      box-shadow: 0px 1px 2px rgba(60, 64, 67, 0.3), 0px 1px 3px 1px rgba(60, 64, 67, 0.15);\n",
              "      fill: #174EA6;\n",
              "    }\n",
              "\n",
              "    [theme=dark] .colab-df-convert {\n",
              "      background-color: #3B4455;\n",
              "      fill: #D2E3FC;\n",
              "    }\n",
              "\n",
              "    [theme=dark] .colab-df-convert:hover {\n",
              "      background-color: #434B5C;\n",
              "      box-shadow: 0px 1px 3px 1px rgba(0, 0, 0, 0.15);\n",
              "      filter: drop-shadow(0px 1px 2px rgba(0, 0, 0, 0.3));\n",
              "      fill: #FFFFFF;\n",
              "    }\n",
              "  </style>\n",
              "\n",
              "      <script>\n",
              "        const buttonEl =\n",
              "          document.querySelector('#df-be6e3ea9-dc11-4d05-9a94-a14a23aeffa7 button.colab-df-convert');\n",
              "        buttonEl.style.display =\n",
              "          google.colab.kernel.accessAllowed ? 'block' : 'none';\n",
              "\n",
              "        async function convertToInteractive(key) {\n",
              "          const element = document.querySelector('#df-be6e3ea9-dc11-4d05-9a94-a14a23aeffa7');\n",
              "          const dataTable =\n",
              "            await google.colab.kernel.invokeFunction('convertToInteractive',\n",
              "                                                     [key], {});\n",
              "          if (!dataTable) return;\n",
              "\n",
              "          const docLinkHtml = 'Like what you see? Visit the ' +\n",
              "            '<a target=\"_blank\" href=https://colab.research.google.com/notebooks/data_table.ipynb>data table notebook</a>'\n",
              "            + ' to learn more about interactive tables.';\n",
              "          element.innerHTML = '';\n",
              "          dataTable['output_type'] = 'display_data';\n",
              "          await google.colab.output.renderOutput(dataTable, element);\n",
              "          const docLink = document.createElement('div');\n",
              "          docLink.innerHTML = docLinkHtml;\n",
              "          element.appendChild(docLink);\n",
              "        }\n",
              "      </script>\n",
              "    </div>\n",
              "  </div>\n",
              "  "
            ]
          },
          "metadata": {},
          "execution_count": 10
        }
      ],
      "source": [
        "### Remove all the rows in the dataset 'marks' having 5 missing values and then print the number of missing values in each column.\n",
        "import pandas as pd\n",
        "marks = pd.read_csv('https://media-doselect.s3.amazonaws.com/generic/VodvGKvJAaeNrG7kvOQV38aog/class-grades.csv')\n",
        "m1=marks.dropna(thresh=5)\n",
        "m1\n",
        "marks = marks[marks.isnull().sum(axis=1)<5] \n",
        "marks"
      ]
    },
    {
      "cell_type": "code",
      "source": [
        "marks"
      ],
      "metadata": {
        "colab": {
          "base_uri": "https://localhost:8080/",
          "height": 424
        },
        "id": "HOsdRpho1caj",
        "outputId": "abf5b457-3678-42aa-c434-cab066e1278d"
      },
      "execution_count": null,
      "outputs": [
        {
          "output_type": "execute_result",
          "data": {
            "text/plain": [
              "    Prefix  Assignment  Tutorial  Midterm  TakeHome  Final\n",
              "0        5       57.14     34.09    64.38     51.48  52.50\n",
              "1        8       95.05    105.49    67.50     99.07  68.33\n",
              "2        8       83.70     83.17    30.00     63.15  48.89\n",
              "3        7       81.22     96.06    49.38    105.93  80.56\n",
              "4        8       91.32     93.64    95.00    107.41  73.89\n",
              "..     ...         ...       ...      ...       ...    ...\n",
              "94       8       96.73    103.71    45.00     93.52  61.94\n",
              "95       7       85.34     80.54    41.25     93.70  39.72\n",
              "96       8       89.94    102.77    87.50     90.74  87.78\n",
              "97       7       95.60     76.13    66.25     99.81  85.56\n",
              "98       8       63.40     97.37    73.12     72.78  77.22\n",
              "\n",
              "[97 rows x 6 columns]"
            ],
            "text/html": [
              "\n",
              "  <div id=\"df-eed7731b-0903-477c-953a-25eb1d9cbd3d\">\n",
              "    <div class=\"colab-df-container\">\n",
              "      <div>\n",
              "<style scoped>\n",
              "    .dataframe tbody tr th:only-of-type {\n",
              "        vertical-align: middle;\n",
              "    }\n",
              "\n",
              "    .dataframe tbody tr th {\n",
              "        vertical-align: top;\n",
              "    }\n",
              "\n",
              "    .dataframe thead th {\n",
              "        text-align: right;\n",
              "    }\n",
              "</style>\n",
              "<table border=\"1\" class=\"dataframe\">\n",
              "  <thead>\n",
              "    <tr style=\"text-align: right;\">\n",
              "      <th></th>\n",
              "      <th>Prefix</th>\n",
              "      <th>Assignment</th>\n",
              "      <th>Tutorial</th>\n",
              "      <th>Midterm</th>\n",
              "      <th>TakeHome</th>\n",
              "      <th>Final</th>\n",
              "    </tr>\n",
              "  </thead>\n",
              "  <tbody>\n",
              "    <tr>\n",
              "      <th>0</th>\n",
              "      <td>5</td>\n",
              "      <td>57.14</td>\n",
              "      <td>34.09</td>\n",
              "      <td>64.38</td>\n",
              "      <td>51.48</td>\n",
              "      <td>52.50</td>\n",
              "    </tr>\n",
              "    <tr>\n",
              "      <th>1</th>\n",
              "      <td>8</td>\n",
              "      <td>95.05</td>\n",
              "      <td>105.49</td>\n",
              "      <td>67.50</td>\n",
              "      <td>99.07</td>\n",
              "      <td>68.33</td>\n",
              "    </tr>\n",
              "    <tr>\n",
              "      <th>2</th>\n",
              "      <td>8</td>\n",
              "      <td>83.70</td>\n",
              "      <td>83.17</td>\n",
              "      <td>30.00</td>\n",
              "      <td>63.15</td>\n",
              "      <td>48.89</td>\n",
              "    </tr>\n",
              "    <tr>\n",
              "      <th>3</th>\n",
              "      <td>7</td>\n",
              "      <td>81.22</td>\n",
              "      <td>96.06</td>\n",
              "      <td>49.38</td>\n",
              "      <td>105.93</td>\n",
              "      <td>80.56</td>\n",
              "    </tr>\n",
              "    <tr>\n",
              "      <th>4</th>\n",
              "      <td>8</td>\n",
              "      <td>91.32</td>\n",
              "      <td>93.64</td>\n",
              "      <td>95.00</td>\n",
              "      <td>107.41</td>\n",
              "      <td>73.89</td>\n",
              "    </tr>\n",
              "    <tr>\n",
              "      <th>...</th>\n",
              "      <td>...</td>\n",
              "      <td>...</td>\n",
              "      <td>...</td>\n",
              "      <td>...</td>\n",
              "      <td>...</td>\n",
              "      <td>...</td>\n",
              "    </tr>\n",
              "    <tr>\n",
              "      <th>94</th>\n",
              "      <td>8</td>\n",
              "      <td>96.73</td>\n",
              "      <td>103.71</td>\n",
              "      <td>45.00</td>\n",
              "      <td>93.52</td>\n",
              "      <td>61.94</td>\n",
              "    </tr>\n",
              "    <tr>\n",
              "      <th>95</th>\n",
              "      <td>7</td>\n",
              "      <td>85.34</td>\n",
              "      <td>80.54</td>\n",
              "      <td>41.25</td>\n",
              "      <td>93.70</td>\n",
              "      <td>39.72</td>\n",
              "    </tr>\n",
              "    <tr>\n",
              "      <th>96</th>\n",
              "      <td>8</td>\n",
              "      <td>89.94</td>\n",
              "      <td>102.77</td>\n",
              "      <td>87.50</td>\n",
              "      <td>90.74</td>\n",
              "      <td>87.78</td>\n",
              "    </tr>\n",
              "    <tr>\n",
              "      <th>97</th>\n",
              "      <td>7</td>\n",
              "      <td>95.60</td>\n",
              "      <td>76.13</td>\n",
              "      <td>66.25</td>\n",
              "      <td>99.81</td>\n",
              "      <td>85.56</td>\n",
              "    </tr>\n",
              "    <tr>\n",
              "      <th>98</th>\n",
              "      <td>8</td>\n",
              "      <td>63.40</td>\n",
              "      <td>97.37</td>\n",
              "      <td>73.12</td>\n",
              "      <td>72.78</td>\n",
              "      <td>77.22</td>\n",
              "    </tr>\n",
              "  </tbody>\n",
              "</table>\n",
              "<p>97 rows × 6 columns</p>\n",
              "</div>\n",
              "      <button class=\"colab-df-convert\" onclick=\"convertToInteractive('df-eed7731b-0903-477c-953a-25eb1d9cbd3d')\"\n",
              "              title=\"Convert this dataframe to an interactive table.\"\n",
              "              style=\"display:none;\">\n",
              "        \n",
              "  <svg xmlns=\"http://www.w3.org/2000/svg\" height=\"24px\"viewBox=\"0 0 24 24\"\n",
              "       width=\"24px\">\n",
              "    <path d=\"M0 0h24v24H0V0z\" fill=\"none\"/>\n",
              "    <path d=\"M18.56 5.44l.94 2.06.94-2.06 2.06-.94-2.06-.94-.94-2.06-.94 2.06-2.06.94zm-11 1L8.5 8.5l.94-2.06 2.06-.94-2.06-.94L8.5 2.5l-.94 2.06-2.06.94zm10 10l.94 2.06.94-2.06 2.06-.94-2.06-.94-.94-2.06-.94 2.06-2.06.94z\"/><path d=\"M17.41 7.96l-1.37-1.37c-.4-.4-.92-.59-1.43-.59-.52 0-1.04.2-1.43.59L10.3 9.45l-7.72 7.72c-.78.78-.78 2.05 0 2.83L4 21.41c.39.39.9.59 1.41.59.51 0 1.02-.2 1.41-.59l7.78-7.78 2.81-2.81c.8-.78.8-2.07 0-2.86zM5.41 20L4 18.59l7.72-7.72 1.47 1.35L5.41 20z\"/>\n",
              "  </svg>\n",
              "      </button>\n",
              "      \n",
              "  <style>\n",
              "    .colab-df-container {\n",
              "      display:flex;\n",
              "      flex-wrap:wrap;\n",
              "      gap: 12px;\n",
              "    }\n",
              "\n",
              "    .colab-df-convert {\n",
              "      background-color: #E8F0FE;\n",
              "      border: none;\n",
              "      border-radius: 50%;\n",
              "      cursor: pointer;\n",
              "      display: none;\n",
              "      fill: #1967D2;\n",
              "      height: 32px;\n",
              "      padding: 0 0 0 0;\n",
              "      width: 32px;\n",
              "    }\n",
              "\n",
              "    .colab-df-convert:hover {\n",
              "      background-color: #E2EBFA;\n",
              "      box-shadow: 0px 1px 2px rgba(60, 64, 67, 0.3), 0px 1px 3px 1px rgba(60, 64, 67, 0.15);\n",
              "      fill: #174EA6;\n",
              "    }\n",
              "\n",
              "    [theme=dark] .colab-df-convert {\n",
              "      background-color: #3B4455;\n",
              "      fill: #D2E3FC;\n",
              "    }\n",
              "\n",
              "    [theme=dark] .colab-df-convert:hover {\n",
              "      background-color: #434B5C;\n",
              "      box-shadow: 0px 1px 3px 1px rgba(0, 0, 0, 0.15);\n",
              "      filter: drop-shadow(0px 1px 2px rgba(0, 0, 0, 0.3));\n",
              "      fill: #FFFFFF;\n",
              "    }\n",
              "  </style>\n",
              "\n",
              "      <script>\n",
              "        const buttonEl =\n",
              "          document.querySelector('#df-eed7731b-0903-477c-953a-25eb1d9cbd3d button.colab-df-convert');\n",
              "        buttonEl.style.display =\n",
              "          google.colab.kernel.accessAllowed ? 'block' : 'none';\n",
              "\n",
              "        async function convertToInteractive(key) {\n",
              "          const element = document.querySelector('#df-eed7731b-0903-477c-953a-25eb1d9cbd3d');\n",
              "          const dataTable =\n",
              "            await google.colab.kernel.invokeFunction('convertToInteractive',\n",
              "                                                     [key], {});\n",
              "          if (!dataTable) return;\n",
              "\n",
              "          const docLinkHtml = 'Like what you see? Visit the ' +\n",
              "            '<a target=\"_blank\" href=https://colab.research.google.com/notebooks/data_table.ipynb>data table notebook</a>'\n",
              "            + ' to learn more about interactive tables.';\n",
              "          element.innerHTML = '';\n",
              "          dataTable['output_type'] = 'display_data';\n",
              "          await google.colab.output.renderOutput(dataTable, element);\n",
              "          const docLink = document.createElement('div');\n",
              "          docLink.innerHTML = docLinkHtml;\n",
              "          element.appendChild(docLink);\n",
              "        }\n",
              "      </script>\n",
              "    </div>\n",
              "  </div>\n",
              "  "
            ]
          },
          "metadata": {},
          "execution_count": 11
        }
      ]
    },
    {
      "cell_type": "markdown",
      "source": [
        "# Removing extra characters from a column\n",
        "# Description\n",
        "# The given data frame 'customer' has a column 'Cust_id' which has values Cust_1, Cust_2 and so on.Remove the repeated 'Cust_' from the column Cust_id so that the output column Cust_id have just numbers like 1, 2, 3 and so on.Print the first 10 rows of the dataset  'customer' after processing."
      ],
      "metadata": {
        "id": "7LMOpevMIBy-"
      }
    },
    {
      "cell_type": "code",
      "source": [
        "import pandas as pd\n",
        "customer = pd.read_csv('https://media-doselect.s3.amazonaws.com/generic/9B2ZPE1apMvqrLWx7p8ge9dqX/cust_dimen.csv')\n",
        "\n",
        "customer['Cust_id'] =customer['Cust_id'].str.replace('[Cust_]','')\n",
        "#Type your code here\n",
        "print(customer.head(10))"
      ],
      "metadata": {
        "colab": {
          "base_uri": "https://localhost:8080/"
        },
        "id": "-3gvmJek4v4F",
        "outputId": "e939444c-86d7-4b38-b434-b740d21110da"
      },
      "execution_count": null,
      "outputs": [
        {
          "output_type": "stream",
          "name": "stdout",
          "text": [
            "        Customer_Name Province   Region Customer_Segment Cust_id\n",
            "0  MUHAMMED MACINTYRE  NUNAVUT  NUNAVUT   SMALL BUSINESS       1\n",
            "1        BARRY FRENCH  NUNAVUT  NUNAVUT         CONSUMER       2\n",
            "2       CLAY ROZENDAL  NUNAVUT  NUNAVUT        CORPORATE       3\n",
            "3      CARLOS SOLTERO  NUNAVUT  NUNAVUT         CONSUMER       4\n",
            "4        CARL JACKSON  NUNAVUT  NUNAVUT        CORPORATE       5\n",
            "5      MONICA FEDERLE  NUNAVUT  NUNAVUT        CORPORATE       6\n",
            "6     DOROTHY BADDERS  NUNAVUT  NUNAVUT      HOME OFFICE       7\n",
            "7     NEOLA SCHNEIDER  NUNAVUT  NUNAVUT      HOME OFFICE       8\n",
            "8         CARLOS DALY  NUNAVUT  NUNAVUT      HOME OFFICE       9\n",
            "9       CLAUDIA MINER  NUNAVUT  NUNAVUT   SMALL BUSINESS      10\n"
          ]
        },
        {
          "output_type": "stream",
          "name": "stderr",
          "text": [
            "<ipython-input-15-dd077035421d>:4: FutureWarning: The default value of regex will change from True to False in a future version.\n",
            "  customer['Cust_id'] =customer['Cust_id'].str.replace('[Cust_]','')\n"
          ]
        }
      ]
    },
    {
      "cell_type": "code",
      "source": [
        "import pandas as pd\n",
        "customer = pd.read_csv('https://media-doselect.s3.amazonaws.com/generic/9B2ZPE1apMvqrLWx7p8ge9dqX/cust_dimen.csv')\n",
        "\n",
        "customer['Cust_id'] = customer['Cust_id'].map(lambda x: x.strip('Cust_'))\n",
        "print(customer.head(10))"
      ],
      "metadata": {
        "colab": {
          "base_uri": "https://localhost:8080/"
        },
        "id": "JDZkkZ9x4v5n",
        "outputId": "9274f77b-fe23-4ecc-d153-b7c45087f384"
      },
      "execution_count": null,
      "outputs": [
        {
          "output_type": "stream",
          "name": "stdout",
          "text": [
            "        Customer_Name Province   Region Customer_Segment Cust_id\n",
            "0  MUHAMMED MACINTYRE  NUNAVUT  NUNAVUT   SMALL BUSINESS       1\n",
            "1        BARRY FRENCH  NUNAVUT  NUNAVUT         CONSUMER       2\n",
            "2       CLAY ROZENDAL  NUNAVUT  NUNAVUT        CORPORATE       3\n",
            "3      CARLOS SOLTERO  NUNAVUT  NUNAVUT         CONSUMER       4\n",
            "4        CARL JACKSON  NUNAVUT  NUNAVUT        CORPORATE       5\n",
            "5      MONICA FEDERLE  NUNAVUT  NUNAVUT        CORPORATE       6\n",
            "6     DOROTHY BADDERS  NUNAVUT  NUNAVUT      HOME OFFICE       7\n",
            "7     NEOLA SCHNEIDER  NUNAVUT  NUNAVUT      HOME OFFICE       8\n",
            "8         CARLOS DALY  NUNAVUT  NUNAVUT      HOME OFFICE       9\n",
            "9       CLAUDIA MINER  NUNAVUT  NUNAVUT   SMALL BUSINESS      10\n"
          ]
        }
      ]
    },
    {
      "cell_type": "code",
      "source": [],
      "metadata": {
        "id": "6ff21FKj4v8y"
      },
      "execution_count": null,
      "outputs": []
    },
    {
      "cell_type": "markdown",
      "source": [
        "How to Use merge()\n",
        "Before getting into the details of how to use merge(), you should first understand the various forms of joins:\n",
        "\n",
        "inner\n",
        "outer\n",
        "left\n",
        "right\n",
        "![1rt.JPG](data:image/jpeg;base64,/9j/4AAQSkZJRgABAQEAYABgAAD/4RDcRXhpZgAATU0AKgAAAAgABAE7AAIAAAAGAAAISodpAAQAAAABAAAIUJydAAEAAAAMAAAQyOocAAcAAAgMAAAAPgAAAAAc6gAAAAgAAAAAAAAAAAAAAAAAAAAAAAAAAAAAAAAAAAAAAAAAAAAAAAAAAAAAAAAAAAAAAAAAAAAAAAAAAAAAAAAAAAAAAAAAAAAAAAAAAAAAAAAAAAAAAAAAAAAAAAAAAAAAAAAAAAAAAAAAAAAAAAAAAAAAAAAAAAAAAAAAAAAAAAAAAAAAAAAAAAAAAAAAAAAAAAAAAAAAAAAAAAAAAAAAAAAAAAAAAAAAAAAAAAAAAAAAAAAAAAAAAAAAAAAAAAAAAAAAAAAAAAAAAAAAAAAAAAAAAAAAAAAAAAAAAAAAAAAAAAAAAAAAAAAAAAAAAAAAAAAAAAAAAAAAAAAAAAAAAAAAAAAAAAAAAAAAAAAAAAAAAAAAAAAAAAAAAAAAAAAAAAAAAAAAAAAAAAAAAAAAAAAAAAAAAAAAAAAAAAAAAAAAAAAAAAAAAAAAAAAAAAAAAAAAAAAAAAAAAAAAAAAAAAAAAAAAAAAAAAAAAAAAAAAAAAAAAAAAAAAAAAAAAAAAAAAAAAAAAAAAAAAAAAAAAAAAAAAAAAAAAAAAAAAAAAAAAAAAAAAAAAAAAAAAAAAAAAAAAAAAAAAAAAAAAAAAAAAAAAAAAAAAAAAAAAAAAAAAAAAAAAAAAAAAAAAAAAAAAAAAAAAAAAAAAAAAAAAAAAAAAAAAAAAAAAAAAAAAAAAAAAAAAAAAAAAAAAAAAAAAAAAAAAAAAAAAAAAAAAAAAAAAAAAAAAAAAAAAAAAAAAAAAAAAAAAAAAAAAAAAAAAAAAAAAAAAAAAAAAAAAAAAAAAAAAAAAAAAAAAAAAAAAAAAAAAAAAAAAAAAAAAAAAAAAAAAAAAAAAAAAAAAAAAAAAAAAAAAAAAAAAAAAAAAAAAAAAAAAAAAAAAAAAAAAAAAAAAAAAAAAAAAAAAAAAAAAAAAAAAAAAAAAAAAAAAAAAAAAAAAAAAAAAAAAAAAAAAAAAAAAAAAAAAAAAAAAAAAAAAAAAAAAAAAAAAAAAAAAAAAAAAAAAAAAAAAAAAAAAAAAAAAAAAAAAAAAAAAAAAAAAAAAAAAAAAAAAAAAAAAAAAAAAAAAAAAAAAAAAAAAAAAAAAAAAAAAAAAAAAAAAAAAAAAAAAAAAAAAAAAAAAAAAAAAAAAAAAAAAAAAAAAAAAAAAAAAAAAAAAAAAAAAAAAAAAAAAAAAAAAAAAAAAAAAAAAAAAAAAAAAAAAAAAAAAAAAAAAAAAAAAAAAAAAAAAAAAAAAAAAAAAAAAAAAAAAAAAAAAAAAAAAAAAAAAAAAAAAAAAAAAAAAAAAAAAAAAAAAAAAAAAAAAAAAAAAAAAAAAAAAAAAAAAAAAAAAAAAAAAAAAAAAAAAAAAAAAAAAAAAAAAAAAAAAAAAAAAAAAAAAAAAAAAAAAAAAAAAAAAAAAAAAAAAAAAAAAAAAAAAAAAAAAAAAAAAAAAAAAAAAAAAAAAAAAAAAAAAAAAAAAAAAAAAAAAAAAAAAAAAAAAAAAAAAAAAAAAAAAAAAAAAAAAAAAAAAAAAAAAAAAAAAAAAAAAAAAAAAAAAAAAAAAAAAAAAAAAAAAAAAAAAAAAAAAAAAAAAAAAAAAAAAAAAAAAAAAAAAAAAAAAAAAAAAAAAAAAAAAAAAAAAAAAAAAAAAAAAAAAAAAAAAAAAAAAAAAAAAAAAAAAAAAAAAAAAAAAAAAAAAAAAAAAAAAAAAAAAAAAAAAAAAAAAAAAAAAAAAAAAAAAAAAAAAAAAAAAAAAAAAAAAAAAAAAAAAAAAAAAAAAAAAAAAAAAAAAAAAAAAAAAAAAAAAAAAAAAAAAAAAAAAAAAAAAAAAAAAAAAAAAAAAAAAAAAAAAAAAAAAAAAAAAAAAAAAAAAAAAAAAAAAAAAAAAAAAAAAAAAAAAAAAAAAAAAAAAAAAAAAAAAAAAAAAAAAAAAAAAAAAAAAAAAAAAAAAAAAAAAAAAAAAAAAAAAAAAAAAAAAAAAAAAAAAAAAAAAAAAAAAAAAAAAAAAAAAAAAAAAAAAAAAAAAAAAAAAAAAAAAAAAAAAAAAAAAAAAAAAAAAAAAAAAAAAAAAAAAAAAAAAAAAAAAAAAAAAAAAAAAAAAAAAAAAAAAAAAAAAAAAAAAAAAAAAAAAAAAAAAAAAAAAAAAAAAAAAAAAAAAAAAAAAAAAAAAAAAAAAAAAAAAAAAAAAAAAAAAAAAAAAAAAAAAAAAAAAAAAAAAAAAAAAAAAAAAAAAAAAAAAAAAAAAAAAAAAAAAAAAAAAAAAAAAAAAAAAAAAAAAAAAAAAAAAAAAAAAAAAAAAAAAAAAAAAAAAAAAAAAAAAAAAAAAAAAAAAAAAAAAAAAAAAAAAAAAAAAAAAAAAAAAAAAAAAAAAAAAAAAAAAAAAAAAAAAAAAAAAAAAAAAAAAAAAAAAAAAAAAAAAAAAAAAAAAAAAAAAAAAAAAAAAAAAAAAAAAAAAAAAAAAAAAAAAAAAAAAAAAAAAAAAAAAAAAAAAAAAAAAAAAAAAAAAAAAAAAAAAAAAAAAAAAAAAAAAAAAAAAAAAAAAAAAAAAAAAAAAAAAAAAAAAAAAAAAAAAAAAAAAAAAAAAAAAAAAAAAAAAAAAAAAAAAAAAAAAAAAAAAAAAAAAAAAAAAAAAAAAAAAAAAAAAAAAAAAAAAAAAAAAAAAAAAAAAAAAAAAAAAAAAAAAAAAAAAAAAAAAAAAAAAAAAAAAAAAAAAAAAAAAAAAAAAAAAAAAAAAAAAAAAAAAAAAAAAAAAAAAGFkbWluAAAFkAMAAgAAABQAABCekAQAAgAAABQAABCykpEAAgAAAAMxMQAAkpIAAgAAAAMxMQAA6hwABwAACAwAAAiSAAAAABzqAAAACAAAAAAAAAAAAAAAAAAAAAAAAAAAAAAAAAAAAAAAAAAAAAAAAAAAAAAAAAAAAAAAAAAAAAAAAAAAAAAAAAAAAAAAAAAAAAAAAAAAAAAAAAAAAAAAAAAAAAAAAAAAAAAAAAAAAAAAAAAAAAAAAAAAAAAAAAAAAAAAAAAAAAAAAAAAAAAAAAAAAAAAAAAAAAAAAAAAAAAAAAAAAAAAAAAAAAAAAAAAAAAAAAAAAAAAAAAAAAAAAAAAAAAAAAAAAAAAAAAAAAAAAAAAAAAAAAAAAAAAAAAAAAAAAAAAAAAAAAAAAAAAAAAAAAAAAAAAAAAAAAAAAAAAAAAAAAAAAAAAAAAAAAAAAAAAAAAAAAAAAAAAAAAAAAAAAAAAAAAAAAAAAAAAAAAAAAAAAAAAAAAAAAAAAAAAAAAAAAAAAAAAAAAAAAAAAAAAAAAAAAAAAAAAAAAAAAAAAAAAAAAAAAAAAAAAAAAAAAAAAAAAAAAAAAAAAAAAAAAAAAAAAAAAAAAAAAAAAAAAAAAAAAAAAAAAAAAAAAAAAAAAAAAAAAAAAAAAAAAAAAAAAAAAAAAAAAAAAAAAAAAAAAAAAAAAAAAAAAAAAAAAAAAAAAAAAAAAAAAAAAAAAAAAAAAAAAAAAAAAAAAAAAAAAAAAAAAAAAAAAAAAAAAAAAAAAAAAAAAAAAAAAAAAAAAAAAAAAAAAAAAAAAAAAAAAAAAAAAAAAAAAAAAAAAAAAAAAAAAAAAAAAAAAAAAAAAAAAAAAAAAAAAAAAAAAAAAAAAAAAAAAAAAAAAAAAAAAAAAAAAAAAAAAAAAAAAAAAAAAAAAAAAAAAAAAAAAAAAAAAAAAAAAAAAAAAAAAAAAAAAAAAAAAAAAAAAAAAAAAAAAAAAAAAAAAAAAAAAAAAAAAAAAAAAAAAAAAAAAAAAAAAAAAAAAAAAAAAAAAAAAAAAAAAAAAAAAAAAAAAAAAAAAAAAAAAAAAAAAAAAAAAAAAAAAAAAAAAAAAAAAAAAAAAAAAAAAAAAAAAAAAAAAAAAAAAAAAAAAAAAAAAAAAAAAAAAAAAAAAAAAAAAAAAAAAAAAAAAAAAAAAAAAAAAAAAAAAAAAAAAAAAAAAAAAAAAAAAAAAAAAAAAAAAAAAAAAAAAAAAAAAAAAAAAAAAAAAAAAAAAAAAAAAAAAAAAAAAAAAAAAAAAAAAAAAAAAAAAAAAAAAAAAAAAAAAAAAAAAAAAAAAAAAAAAAAAAAAAAAAAAAAAAAAAAAAAAAAAAAAAAAAAAAAAAAAAAAAAAAAAAAAAAAAAAAAAAAAAAAAAAAAAAAAAAAAAAAAAAAAAAAAAAAAAAAAAAAAAAAAAAAAAAAAAAAAAAAAAAAAAAAAAAAAAAAAAAAAAAAAAAAAAAAAAAAAAAAAAAAAAAAAAAAAAAAAAAAAAAAAAAAAAAAAAAAAAAAAAAAAAAAAAAAAAAAAAAAAAAAAAAAAAAAAAAAAAAAAAAAAAAAAAAAAAAAAAAAAAAAAAAAAAAAAAAAAAAAAAAAAAAAAAAAAAAAAAAAAAAAAAAAAAAAAAAAAAAAAAAAAAAAAAAAAAAAAAAAAAAAAAAAAAAAAAAAAAAAAAAAAAAAAAAAAAAAAAAAAAAAAAAAAAAAAAAAAAAAAAAAAAAAAAAAAAAAAAAAAAAAAAAAAAAAAAAAAAAAAAAAAAAAAAAAAAAAAAAAAAAAAAAAAAAAAAAAAAAAAAAAAAAAAAAAAAAAAAAAAAAAAAAAAAAAAAAAAAAAAAAAAAAAAAAAAAAAAAAAAAAAAAAAAAAAAAAAAAAAAAAAAAAAAAAAAAAAAAAAAAAAAAAAAAAAAAAAAAAAAAAAAAAAAAAAAAAAAAAAAAAAAAAAAAAAAAAAAAAAAAAAAAAAAAAAAAAAAAAAAAAAAAAAAAAAAAAAAAAAAAAAAAAAAAAAAAAAAAAAAAAAAAAAAAAAAAAAAAAAAAAAAAAAAAAAAAAAAAAAAAAAAAAAAAAAAAAAAAAAAAAAAAAAAAAAAAAAAAAAAAAAAAAAAAAAAAAAAAAAAAAAAAAAAAAAAAAAAAAAAAAAAAAAAAAAAAAAAAAAAAAAAAAAAAAAAAAAAAAAAAAAAAAAAAAAAAAAAAAAAAAAAAAAAAAAAAAAAAAAAAAAAAAAAAAAAAAAAAAAAAAAAAAAAAAAAAAAAAAAAAAAAAAAAAAAAAAAAAAAAAAAAAAAAAAAAAAAAAAAAAAAAAAAAAAAAAAAAAAAAAAAAAAAAAAAAAAAAAAAAAAAAAAAAAAAAAAAAAAAAAAAAAAAAAAAAAAAAAAAAAAAAAAAAAAAAAAAAAAAAAAAAAAAAAAAAAAAAAAAAAAAAAAAAAAAAAAAAAAAAAAAAAAAAAAAAAAAAAAAAAAAAAAAAAAAAAAAAAAAAAAAAAAAAAAAAAAAAAAAAAAAAAAAAAAAAAAAAAAAAAAAAAAAAAAAAAAAAAAAAAAAAAAAAAAAAAAAAAAAAAAAAAAAAAAAAAAAAAAAAAAAAAAAAAAAAAAAAAAAAAAAAAAAAAAAAAAAAAAAAAAAAAAAAAAAAAAAAAAAAAAAAAAAAAAAAAAAAAAAAAAAAAAAAAAAAAAAAAAAAAAAAAAAAAAAAAAAAAAAAAAAAAAAAAAAAAAAAAAAAAAAAAAAAAAAAAAAAAAAAAAAAAAAAAAAAAAAAAAAAAAAAAAAAAAAAAAAAAAAAAAAAAAAAAAAAAAAAAAAAAAAAAAAAAAAAAAAAAAAAAAAMjAyMzowMToyMiAyMTo1MTo1OQAyMDIzOjAxOjIyIDIxOjUxOjU5AAAAYQBkAG0AaQBuAAAA/+ELGGh0dHA6Ly9ucy5hZG9iZS5jb20veGFwLzEuMC8APD94cGFja2V0IGJlZ2luPSfvu78nIGlkPSdXNU0wTXBDZWhpSHpyZVN6TlRjemtjOWQnPz4NCjx4OnhtcG1ldGEgeG1sbnM6eD0iYWRvYmU6bnM6bWV0YS8iPjxyZGY6UkRGIHhtbG5zOnJkZj0iaHR0cDovL3d3dy53My5vcmcvMTk5OS8wMi8yMi1yZGYtc3ludGF4LW5zIyI+PHJkZjpEZXNjcmlwdGlvbiByZGY6YWJvdXQ9InV1aWQ6ZmFmNWJkZDUtYmEzZC0xMWRhLWFkMzEtZDMzZDc1MTgyZjFiIiB4bWxuczpkYz0iaHR0cDovL3B1cmwub3JnL2RjL2VsZW1lbnRzLzEuMS8iLz48cmRmOkRlc2NyaXB0aW9uIHJkZjphYm91dD0idXVpZDpmYWY1YmRkNS1iYTNkLTExZGEtYWQzMS1kMzNkNzUxODJmMWIiIHhtbG5zOnhtcD0iaHR0cDovL25zLmFkb2JlLmNvbS94YXAvMS4wLyI+PHhtcDpDcmVhdGVEYXRlPjIwMjMtMDEtMjJUMjE6NTE6NTkuMTEyPC94bXA6Q3JlYXRlRGF0ZT48L3JkZjpEZXNjcmlwdGlvbj48cmRmOkRlc2NyaXB0aW9uIHJkZjphYm91dD0idXVpZDpmYWY1YmRkNS1iYTNkLTExZGEtYWQzMS1kMzNkNzUxODJmMWIiIHhtbG5zOmRjPSJodHRwOi8vcHVybC5vcmcvZGMvZWxlbWVudHMvMS4xLyI+PGRjOmNyZWF0b3I+PHJkZjpTZXEgeG1sbnM6cmRmPSJodHRwOi8vd3d3LnczLm9yZy8xOTk5LzAyLzIyLXJkZi1zeW50YXgtbnMjIj48cmRmOmxpPmFkbWluPC9yZGY6bGk+PC9yZGY6U2VxPg0KCQkJPC9kYzpjcmVhdG9yPjwvcmRmOkRlc2NyaXB0aW9uPjwvcmRmOlJERj48L3g6eG1wbWV0YT4NCiAgICAgICAgICAgICAgICAgICAgICAgICAgICAgICAgICAgICAgICAgICAgICAgICAgICAgICAgICAgICAgICAgICAgICAgICAgICAgICAgICAgICAgICAgICAgICAgICAgICAKICAgICAgICAgICAgICAgICAgICAgICAgICAgICAgICAgICAgICAgICAgICAgICAgICAgICAgICAgICAgICAgICAgICAgICAgICAgICAgICAgICAgICAgICAgICAgICAgICAgIAogICAgICAgICAgICAgICAgICAgICAgICAgICAgICAgICAgICAgICAgICAgICAgICAgICAgICAgICAgICAgICAgICAgICAgICAgICAgICAgICAgICAgICAgICAgICAgICAgICAgCiAgICAgICAgICAgICAgICAgICAgICAgICAgICAgICAgICAgICAgICAgICAgICAgICAgICAgICAgICAgICAgICAgICAgICAgICAgICAgICAgICAgICAgICAgICAgICAgICAgICAKICAgICAgICAgICAgICAgICAgICAgICAgICAgICAgICAgICAgICAgICAgICAgICAgICAgICAgICAgICAgICAgICAgICAgICAgICAgICAgICAgICAgICAgICAgICAgICAgICAgIAogICAgICAgICAgICAgICAgICAgICAgICAgICAgICAgICAgICAgICAgICAgICAgICAgICAgICAgICAgICAgICAgICAgICAgICAgICAgICAgICAgICAgICAgICAgICAgICAgICAgCiAgICAgICAgICAgICAgICAgICAgICAgICAgICAgICAgICAgICAgICAgICAgICAgICAgICAgICAgICAgICAgICAgICAgICAgICAgICAgICAgICAgICAgICAgICAgICAgICAgICAKICAgICAgICAgICAgICAgICAgICAgICAgICAgICAgICAgICAgICAgICAgICAgICAgICAgICAgICAgICAgICAgICAgICAgICAgICAgICAgICAgICAgICAgICAgICAgICAgICAgIAogICAgICAgICAgICAgICAgICAgICAgICAgICAgICAgICAgICAgICAgICAgICAgICAgICAgICAgICAgICAgICAgICAgICAgICAgICAgICAgICAgICAgICAgICAgICAgICAgICAgCiAgICAgICAgICAgICAgICAgICAgICAgICAgICAgICAgICAgICAgICAgICAgICAgICAgICAgICAgICAgICAgICAgICAgICAgICAgICAgICAgICAgICAgICAgICAgICAgICAgICAKICAgICAgICAgICAgICAgICAgICAgICAgICAgICAgICAgICAgICAgICAgICAgICAgICAgICAgICAgICAgICAgICAgICAgICAgICAgICAgICAgICAgICAgICAgICAgICAgICAgIAogICAgICAgICAgICAgICAgICAgICAgICAgICAgICAgICAgICAgICAgICAgICAgICAgICAgICAgICAgICAgICAgICAgICAgICAgICAgICAgICAgICAgICAgICAgICAgICAgICAgCiAgICAgICAgICAgICAgICAgICAgICAgICAgICAgICAgICAgICAgICAgICAgICAgICAgICAgICAgICAgICAgICAgICAgICAgICAgICAgICAgICAgICAgICAgICAgICAgICAgICAKICAgICAgICAgICAgICAgICAgICAgICAgICAgICAgICAgICAgICAgICAgICAgICAgICAgICAgICAgICAgICAgICAgICAgICAgICAgICAgICAgICAgICAgICAgICAgICAgICAgIAogICAgICAgICAgICAgICAgICAgICAgICAgICAgICAgICAgICAgICAgICAgICAgICAgICAgICAgICAgICAgICAgICAgICAgICAgICAgICAgICAgICAgICAgICAgICAgICAgICAgCiAgICAgICAgICAgICAgICAgICAgICAgICAgICAgICAgICAgICAgICAgICAgICAgICAgICAgICAgICAgICAgICAgICAgICAgICAgICAgICAgICAgICAgICAgICAgICAgICAgICAKICAgICAgICAgICAgICAgICAgICAgICAgICAgICAgICAgICAgICAgICAgICAgICAgICAgICAgICAgICAgICAgICAgICAgICAgICAgICAgICAgICAgICAgICAgICAgICAgICAgIAogICAgICAgICAgICAgICAgICAgICAgICAgICAgICAgICAgICAgICAgICAgICAgICAgICAgICAgICAgICAgICAgICAgICAgICAgICAgICAgICAgICAgICAgICAgICAgICAgICAgCiAgICAgICAgICAgICAgICAgICAgICAgICAgICAgICAgICAgICAgICAgICAgICAgICAgICAgICAgICAgICAgICAgICAgICAgICAgICAgICAgICAgICAgICAgICAgICAgICAgICAKICAgICAgICAgICAgICAgICAgICAgICAgICAgICAgICAgICAgICAgICAgICAgICAgICAgICAgICAgICAgICAgICAgICAgICAgICAgICAgICAgICAgICAgICAgICAgICAgICAgIAogICAgICAgICAgICAgICAgICAgICAgICAgICAgPD94cGFja2V0IGVuZD0ndyc/Pv/bAEMABwUFBgUEBwYFBggHBwgKEQsKCQkKFQ8QDBEYFRoZGBUYFxseJyEbHSUdFxgiLiIlKCkrLCsaIC8zLyoyJyorKv/bAEMBBwgICgkKFAsLFCocGBwqKioqKioqKioqKioqKioqKioqKioqKioqKioqKioqKioqKioqKioqKioqKioqKioqKv/AABEIAfcCyAMBIgACEQEDEQH/xAAfAAABBQEBAQEBAQAAAAAAAAAAAQIDBAUGBwgJCgv/xAC1EAACAQMDAgQDBQUEBAAAAX0BAgMABBEFEiExQQYTUWEHInEUMoGRoQgjQrHBFVLR8CQzYnKCCQoWFxgZGiUmJygpKjQ1Njc4OTpDREVGR0hJSlNUVVZXWFlaY2RlZmdoaWpzdHV2d3h5eoOEhYaHiImKkpOUlZaXmJmaoqOkpaanqKmqsrO0tba3uLm6wsPExcbHyMnK0tPU1dbX2Nna4eLj5OXm5+jp6vHy8/T19vf4+fr/xAAfAQADAQEBAQEBAQEBAAAAAAAAAQIDBAUGBwgJCgv/xAC1EQACAQIEBAMEBwUEBAABAncAAQIDEQQFITEGEkFRB2FxEyIygQgUQpGhscEJIzNS8BVictEKFiQ04SXxFxgZGiYnKCkqNTY3ODk6Q0RFRkdISUpTVFVWV1hZWmNkZWZnaGlqc3R1dnd4eXqCg4SFhoeIiYqSk5SVlpeYmZqio6Slpqeoqaqys7S1tre4ubrCw8TFxsfIycrS09TV1tfY2dri4+Tl5ufo6ery8/T19vf4+fr/2gAMAwEAAhEDEQA/APpGiiigAooooAZ5MfnGby180rtL7Ru29cZ9KfRRQAUUUUAFFFFABRRRQAUUUUAFFFFABRRRQAUUUUAFFFFABRRRQAUUUUAFFFFABRRRQAUUUUAFFFFABRRRQAUUUUAFFFFABRRRQAUUUUAFFFFABRRRQAUUUUAFFFFABRRRQAUUUUAFFFFABRRRQAUUUUAFFFFABRRRQAUUUUAFFFFABRRRQAUUUUAFFFFABRRRQAUUUUAFFFFABRRRQAUUUUAFFFFABRRRQAUUUUAFFFFABRRRQAUUUUAFFFFABRRRQAUUUUAFFFFABRRRQAUUUUAFFFRT3VvbLm4mSMf7TYoE2krslorEufFmmwZCO8x9I1/qaybnxrOxxaWqIPWQlj+mK1VKb6HLPGUIby+47GivPZvE+qzf8vGweiKBVKXUr2b/AFl1M3/AzWiw8urOSWaU18KZ6aZY1+86j6moW1CzT791Cv1kFeXs7OcsxY+5pKr6uu5i80fSP4npx1XTx1vrcf8AbUUDVtPPS+tz/wBtV/xrzGin9XXcn+1J/wAqPUF1Gyb7t3AfpIKmWaJvuyIfowrymlDFTlSQfaj6uu5SzSXWP4nrHXpRXl0eoXkP+ruZV+jmrsPiXVYel0X/AN8A1Dw8ujNo5pTfxRZ6JRXF2/jS7Q/6TbxSr/skqf61rW3i/TpsCUSQH/aGR+YrN0ZrodUMbQn9q3qb1FV7e/tbsZtriOT2Dc/lVistjrTUldBRRRQMKKKKACiiigAooooAKKKKACiiigAooooAKKKKACioZ7u3tlzcTJH/ALzYrKufFmmwZEbPMf8AYXj8zUynGO7NYUalT4Vc26K4658a3DHFrbRxj1kJY/0rOm8TarN/y8bB/sKBWLxEEdkcury3sj0KmNLGv3pFH1avM5NRvZv9ZdSt/wADNV2ZmOWJJ9zUPErojojlb6y/A9PbULNPv3UK/WQUw6rp4631uP8AtqK8yoqfrL7Gn9lw/mPTRq2nnpfW5/7ainrqNk/3buE/SQV5fRR9ZfYP7Lh/MeqrNE33ZEP0YU/rXlAYqcqSD7GrEeoXkP8Aq7mVfo5prE90Zyyt9Jfgen0V55D4l1WHpcl/99Qa0LfxpdIf9Jt45R6oSp/rWixEHuc8surLazOzorCtvF2nTYEvmQH/AGlyPzFa1vfWt0M288cnsrc1tGcZbM450alP4o2J6KKKoyCiiigAooooAKKKKACiiigAooooAKRmCqWbgAZNLUc//HvJ/uH+VADPttv/AM9P/HTR9tt/+en/AI6ayKKANf7bb/8APT/x00fbbf8A56f+OmsiigDajuIpm2xtk4z0NFUdO/4+G/3P6iigDSooooAKKKKACiiigAooooAKKKKACiiigAooooAKKKKACiori5htYjJcSrGg7scVzOpeMlBMemx7v+msg/kKuMJS2MK2Ip0V77OpkljhjLzOsaDqzHAFYV94usrfK2oa4f1HC/nXG3d/dX0m66maQ9gTwPwqvXTHDpfEeRWzOb0pqxs3vinUbsFUkFuh7RjB/PrWQ7vI2XZmJ7k5ptFdCio7HmTqzqO83cKKKKozCiiigAooooAKKKKACiiigAooooAKKKKAFDFTlSQfatSy8R6lZAKs3moP4Zfm/XrWVRUuKe5pCpODvF2O1sfGVtLhb2NoG/vL8y1v29zDdRiS2lSVD3U5ryupbe6ntJPMtpWjb1U4rCWHT+E9GlmVSOlRXPVKK47TvGUiEJqMfmL/AM9EHI/DvXU2l/bX0e+1mWQex5H4VyypyhuexRxNKt8L1LFFFFQdAUUUUAFFFFABRRUVxdQWkRkuZVjUd2NGw0m3ZEtMlmjgjMk0ixoOrMcCuW1HxjyY9NjyP+esg/kP8a5u6vrm9k33UzSHtk8D8K5p4iK21PSo5dUnrPRfidhfeL7ODK2itcN69Frn73xPqN2CqyCBD2jGD+fWseiuWVacup6tLB0aeyu/Mczs7Zdix9Sc02iisjrCiiigAooooAKKKKACiiigAooooAKKKKAClVipypIPqDSUUAa1l4k1GyAUTecg/hl5/XrW/ZeMLWbC3kbQN/eHzLXFUVrGtOPU5auDo1N1Z+R6pBcQ3MYkt5UlQ91Oakry22u57STfbStG3qp610eneMXUhNSj3L/z0j6j6iuqGIi/i0PKrZdUhrDVfidfRUFre297HvtZVkX2PI/Cp66b32PMaadmFFFFAgooooAKKKKACo5/+PeT/cP8qkqOf/j3k/3D/KgDFooqwsC+UkrZ2kcgdznoKAEg+RS7hdnuoJJ9BTbgqZiUAAIBwvQcVGTljgYHp6UlAFzTv+Phv9z+ooo07/j4b/c/qKKANKiiigAooooAKKKKACiiigAooooAKKKKACiiqWpara6XDvuX+Y/dQfeamk27ImUowXNJ2RcZgqlmIAHJJPSuc1TxdDb7otPUTSdN5+6P8a5/Vdfu9UYozeVBniNT1+vrWVXXCgt5HiYjMW/dpfeT3d7cX0xkupWkY+vQfQVBRRXTseQ227sKKKKYgooooAKKKKACiiigAooooAKKKKACiiigAooooAKKKKACiiigAooooAKkguJbaUSQSNG46FTio6KQ02ndHXaX4wB2xamuD085B/MV1EUsc8ayQurowyGU5Brymr2m6xd6XJm3fKE/NG33TXPOgnrE9XD5jKPu1dV36npdFZmk65a6rHhD5cwHzRN1/D1rTrjaadme5CcZx5ou6CkZlRSzsFUDJJOAKpanq1rpcO+4fLn7sa/eauI1XXbvVGKyN5cOeIl6fj61hUqxh6nfh8HUr67LudBqni6KHdFpyiV+nmN90fT1rkrq8uLyUyXMrSMfU9KhorhnUlPc9+jhqdFe6te4UUUVmdAUUUUAFFFFABRRRQAUUUUAFFFFABRRRQAUUUUAFFFFABRRRQAUUUUAFFFFAEsFzNayiS3kaNx3U11Wl+L1fbFqa7W6eao4P1FchRWkKkobGFbD06ytNHq0ciSxh4mDowyGU5Bp1eb6ZrN3pcn7h8xk/NG33T/hXb6VrVrqsf7ptkoHzRN1H09RXdTrRnp1PAxGDnR13Ro0UUVscQUUUUAFRz/8e8n+4f5VJTZF3xsucbgRmgDDp6yyKuFkYD0DGrn9mf8ATX/x3/69H9mf9Nf/AB3/AOvQBQoq/wD2Z/01/wDHf/r0f2Z/01/8d/8Ar0AM07/j4b/c/qKKs21n9nkLb92RjGMUUAWaKKKACiiigAooooAKKKKACiiigAoork9f8T432mmt7PMP5D/GrhBzdkYVq8KMeaRe1vxNFYBoLQiW46E/wp9feuJuLma6maW4kaR26kmoicnJ5NFd8KagtD5vEYmdd3lt2CiiitDlCiiigAooooAKKKKACiiigAooooAKKKKACiiigAooooAKKKKACiiigAooooAKKKKACiiigAooooGOjkeKQPGxVlOQQcEVtJ49eK0NtIqvddFm7D6j1rkby/zmOA8d2rPrysViIv3YfefW5Tl1Sn++q6Lt/mdPPPLcymWdzI7cliajrJs78xYjl5TsfStYEMAQcg9DXkSTT1Ptqc4yWgUUUVJoFFFFABRRRQAUUUUAFFFFABRRRQAUUUUAFFFFABRRRQAUUUUAFFFFABRRRQAUUUUAFFFFABT45XhkEkTlHU5DKcEUyigNzs9E8UpcBbfUSEl6LL2b6+hrpevSvJ66TQfEzWu21v2LQ9FkPVPr7V2Uq/SR42LwH26X3f5HaUUisHUMpDKRkEHrS12HihRRRQAUUUUAFFFFABRRRQAUUUUAFFFFABRRRQAUUUUAFBOBk8CiuQ8TeISxaxsW+UcSyA9fYVcIObsjCvXjQhzSGeIvEhnL2dg2Iukkg/i9h7VzFFFehGKirI+XrVp1p80goooqzEKKKKACiiigAooooAKKKKACiiigAooooAKKKKACiiigAooooAKKKKACiiigAooooAKKKKACiiigA6day72+MmY4T8vc+tLf3m7MUR4/iPrVCvKxWJv7kD63KsrUUq9Za9F+oUUUV5x9MFW7O9MDBJOYz+lVKKTVxxk4u6OiBDKCpyD0NLWRY3nkt5cnKH9K1wcjI6Vi1Y9GnNTVwooopFhRRRQAUUUUAFFFFABRRRQAUUUUAFFFFABRRRQAUUUUAFFFFABRRRQAUUUUAFFFFABRRRQAUUUUAb/h/wAQtp7rbXZLWxOAe8f/ANau4R1kQOhDKwyCO9eUV0PhzXzZSC0u2zbsflY/wH/CuqjWt7sjysbg+f8AeU9+p29FAORkcg0V3HghRRRQAUUUUAFFFFABRRRQAUUUUAFFFFABRRWZrurLpViWXBnfiNff1ppNuyInONOLlLZGd4n102iGytGxMw+dh/APT61xVOkkeaVpJWLOxyzHuabXowgoKx8tiK8q8+Z/ItNaKukR3m47mmaPb2wADn9aW20u9u4TLbwM6A4zkDP0z1/CrVvJZT6KlrdXbW7pO0nERfIIA/pWjaapYw2tvF9qA+yuSGNvkuOuR/dNJykloXClTk1zOyt3W5Xg8NPNYwSBmWWVWYg4woHQdc5NZ+n2MdxNcrcs6LbwtI2zBJ2kcVpR6tatJaeY7KFSZZDtzt3k4+tVdEjLy6hHFmQmzkC4H3uRSvKzuW40nKKgv6shzadp1osKX9xMJZlD4jUERg9M1V1DSp7CaQH54kYASDocjI/Srk76bqPkzXV09tLGipLH5Zbdjjg1NPqdlqS3EdzI9tH5iNHhNxKqMY+tCckKUKbTWi7a+XUovod3Hp73DoQ6TCMx8E9OvX1xxUb6LqEbxo9swaQ7VGQcn068fjWs+sWTXEsodiFvUuEXYfnAXaR7VMNasYbiNhceYrT+Y2yDbtGD17k0uafYv2OHf2vxRjy6V9n02aWcPHcxOoZDgjDdOneq+m2i31+kDsVDZ5H0q3EJG8OXksm4h5k+Y9zzmpdOn022SG6MjR3ESsHj2k+YT0we1Vd2ZioQc49Fvr6lJdIvntjcJbsYgCc5GSB3x1xUn9jXMzL9jhkceWrMXKjGR9elaUeq2Qmtr9pnEsFv5X2bZ94gEdemKgutUt5NKlgidvMeOFQMEZ29aXNO+xfs6KV7/iuxjz28trO0NwhSRDhlPao6u6tcx3eoNNCSylEGSMchQD/KqVaq7WpyTSUmo7BRRRTICiiigAooooAKKKKACiiigAooooAKKKKACiiigAqhf3ewGKM/MfvH0qe8ufs8XH326CsUksxJOSetefi8RyrkjufRZPl/tX7eovdW3mwoooryT7EKKKKACiiigArQ0+8wRDKeP4T6e1Z9FJq5UJODujo6Kp2F150exz86/qKuVi1Y9KMlJXQUUUUhhRRRQAUUUUAFFFFABRRRQAUUUUAFFFFABRRRQBqW9hZ/2ZHdXclxmR2QLCgOMfWnXmji3aURGWXCxtHhR/F2YetJHqz2ujwQWkzJKsrM+B2OMVpxaxbyXwkUmSaYQ5XbjLAkH+lbpQascMpVoty6a/n/AJGVHoV4t1Al3C0UcsixlwQcE05fD959vigkjMaSuVWQkHp9D6dq15Vh0uFZJJpWU36yHzIypAGc49frVCz1W3iRfNdiRf8An9CflwRmnyQWjJVatNOUfyKNnp4l1J7W5ZkEasW24J+UZqYWFhb2sc99NMPPJMSRqCQmcZNO0hVbWplgbzVMcgUgY3cHtSs9le2kEV7cPaXFqDG2YywYZ/Q1KSsaSlLntd202+ZXv9JktXLwHzrfy1kWTp8p4Gfypy6JdHT5bpl27ArBcj5lPOetXX1KxuVmtDI8FuIEiikKbidpzkj3zUk2qWDeYsUjFUWEx7kPz7O3tT5YXuT7StZK34dNDJl0e/hRGktmUOQo5HU9M+n41O2kNBY3L3ayRTxKHVMgggtitS51qzJd4593nSoxRYdpUA5O49/wqkHa5t9ZuhuaKQja5/3wcflQ4wWwKrWkk5K235oyrOAXN7DCxKiRwpI7Zq0dFvZGlNtA0kaOyhsgbseg7/hUumPpyLDLcStDPDLvOFLeYvp7VeTVLK4a0uJp3ha0d2MQQnfk5GD2qYxi1qy6lWope6vwMtdJuJ0h+yQyOzx72DYAHOOOelVrq0nspvKuYzG+M4yDkfUVsyaxbyWkoDFJJLZk2gHhi+cZ+lZuo3Mdytp5ZJMVuqPkdwT/AI0pKNtCqc6rlaS0N/wvrpyun3b8dInJ/wDHf8K6yvKASCCDgjoRXe+HNZ/tK08qZv8ASIh83+0PWumhVv7rPMx+F5f3sNuptUUUV1nkBRRRQAUUUUAFFFFABRRRQAUUUUAR3E6W1u80x2oi5JrzbVdRk1O/e4kPHRF/ur6VueLtWMso0+BvkQ5lI7n0rl67aFOy5mfP5hiOeXs47L8wooorpPKCiiigApVZlOVJB9jSUUDCiiigQUUUUALubbtydvpnikoooGFFFFAgooooAKKKKACiiigAooooAKKKKACiiigAooooAKKKKACmyOI4y7dAKdWXqNzvfyU+6vX3NY1qqpQ5juwOFliqyprbr6FWeZp5S7fgPQVHRRXgNuTuz9ChCMIqMVZIKKKKRYUUUUAFFFFABRRRQA6ORopA6HBBrdgmE8Ide/UelYFW7C58mbax+R+vsamSujejU5XZ7GxRRRWJ3BRRRQAUUUUAFFFFABRRRQAUUUUAFFFFABRRRQAUUUUAPeWSTHmOz46bjnFMoooDYVWKnKkg+oNITk5PJoooAKKKKACl3MFKgnB6jNJRQAUUUUAFFFFABU9ldy2N5HcQHDoc/UelQUUJ21E0mrM9QsLyO/so7mE/K45Hoe4qxXC+FtV+xXv2aVsQznHP8LdjXdV6dKfPG58viqDoVOXp0CiiitTlCiiigAooooAKKKKACqGs6kNL015+DIfljB7tV+uD8V6l9s1LyIzmK3+X6t3/AMK1pQ55WOTF1/Y0m1u9jEd2kkZ5CWZjkk9zTaKK9E+WCiiigQUUUUAFFFFABRRRQAUUUUAFFFFABRRRQAUUUUAFFFFABRRRQAUUUUAFFFFABRRRQAUUUUAFFFFAEF3P9ngLfxHhfrWITk5PWrV/P5twVB+VOBVWvExVX2k7LZH3mU4T6vh1J/FLV/oFFFFch64UUUUAFFFFABRRRQAUUUUAFFFFAGzYXHnwbW++nB96tVh2k/kXCsfunhvpW5WMlZnfRnzRCiiipNgooooAKKKKACiiigAooooAKKKKACiiigAooooAKKKKACiiigAooooAKKKKACiiigAooooAKKKKADp0r0Hw5qn9o6aBIczQ/K/v6GvPq1PD+pf2bqiMx/dSfJJ9PX8K2oz5JHHjKHtqTtutj0SigHPSivSPmAooooAKKKKACiiigCjrN8NO0uWfPzY2p7seleaklmJY5JOSa6Txlf8Am3sdmh+WEbm92P8A9b+dc1XfQjaN+583mFb2lXlWyCiiitzzgooooAKKKKACiiigAooooAKKKKACiiigAooooAKKKKACiiigAooooAKKKKACiiigAooooAKKKKACoLubyLdmH3jwKnrK1ObfMIx0Qc/WufEVPZ02z0ctw31jExi9lq/kUqKKK8E/QgooooAKKKKACiiigAooooAKKKKACiiigArZ0+bzbYA/eTg1jVa0+byroA/dfg1MldGtGXLI2aKKKxPQCiiigAooooAKKKKACiiigAooooAKKKKACiiigAooooAKKKKACiiigAooooAKKKKACiiigAooooAKKKKAPQvDeofbtITccyQ/I/8AQ1rVwXhW++yauI2OEnGw/Xt/n3rva9KjPmgfMY2j7Ks7bPUKKKK2OMKKKKACmyyLDC8jnCopYn2FOrE8V3ZttEaNThp2Cfh1P+H41UVzNIzq1FTpub6HD3dw13eSzv1kYtUNFFensfHttu7CiiimIKKKKACiiigAooooAKKKKACiiigAooooAKKKKACiiigAooooAKKKKACiiigAooooAKKKKACiiigBrsERmPQDNYDsXdmPUnNa2pSbLXaOrnH4VkV5OOneSj2PsMhoctKVV9dPkgooorzz6MKKKKACiiigAooooAKKKKACiiigAooooAKAcHIoooA34JPNgR/Uc1JVDSpcxvGf4TkVfrBqzPShLmimFFFFIsKKKKACiiigAooooAKKKKACiiigAooooAKKKKACiiigAooooAKKKKACiiigAooooAKKKKACiiigByO0ciuhwynIPvXp1hcreWENwvSRAT7HuPzry+u08G3fmWEtsx5ibcv0P/166cPK0rdzzMyp81NT7HSUUUV3nz4UUUUAFcV4zuvM1CK3B4jTcfqa7WvNdbuPtWtXUgOR5hVfoOP6V0UFeVzzMyny0eXuyhRRRXcfOhRRRQAUUUUAFFFFABRRRQAUUUUAFFFFABRRRQAUUUUAFFFFABRRRQAUUUUAFFFFABRRRQAUUUUAFFFFAGTqcm64CdlFU6kuH8y4dveo6+erS56jZ+kYOl7HDwh2QUUUVkdYUUUUAKFJBIBwOpx0pK6Lw/Es+i38MnKST26tj0LYrRbQ9GubuWC1t5oja30cEjNLu8xWbB+lWotoydRJtM4yiuxg0HSdWZFsYprXy7028haXdvXBOfY8VLH4d0e6vrPykMcbzPHJHHceZuAQsDuxweOlHIxe2icTSlSACQQD0OOtXJYY7/Unj0e2kWPBKRltzYAyT+ma6S3sLe68MaXLfK7xWtvczGJG2l/3nAz2FJRuVKajY48KSCQCcdcDpSV2UWmWbaRcXtks1tFc2m4weZuwRIB17iq+p6XpCw6nDZW00U9gFbzWl3B8nBGO1PkZKqpuxytFFFQbBRRRQBZ0+TZdr6NxW1XOo2yRWHY5rogcqCOhrKe52Yd6NBRRRUHSFFFFABRRRQAUUUUAFFFFABRRRQAUUUUAFFFFABRRRQAUUUUAFFFFABRRRQAUUUUAFFFFABRRRQAVt+FLryNbWMnCzKU/HqKxKmtJzbXkM69Y3DfkaqEuWSZnWh7Sm49z1KikVgyhlOQRkGivWPkBaKKKAIrqb7PZzTf880LfkK8rJySTXo3iOXytBuSOCyhfzNec12YdaNng5pK84x8gooorqPICiiigAooooAKKKKACiiigAooooAKKKKACiiigAooooAKKKKACiiigAooooAKKKKACiiigAooooAKZK+yF2/uqTT6rX7bbN/fAqKkuWDZvh6ftK0Id2jGooor5w/TAooooAKKKKALNrqN1ZxPHbS7FdldhtByVOR1HrU0et6hFNLKlxh5plmc7F5cHIPT17VQop3ZPKn0LkWr30ClYbhkBm884Azv9c4/TpVqbxPq01zDO10A8JJTbGoAJGCcYwTg1k0UXYcsX0JrS7nsbpLm0kMcqHKsB0q+/iXVXvkuzc4kjQooCKFCnqNuMc1lUUXaBxT1aNKfxBqdw8rSXH+tjEbKEUDaDnAGOOfSoH1W8ke6Z5sm7AEx2j58HPpx+FVKKLsOWK6BRRRSKCiiigArcs332cZ9sflWHWtpbZtSPRqiex0Yd+9Yu0UUVkdoUUUUAFFFFABRRRQAUUUUAFFFFABRRRQAUUUUAFFFFABRRRQAUUUUAFFFFABRRRQAUUUUAFFFFABRRRQB6Vos3n6Lav38sA/hxRVHwjL5mhhT/AAOR/WivVg7xTPkq8eWrJeZuUUUVZiYHjCTZooX+/IB/WuFrs/Gz4sbZPWQn9P8A69cZXfQ+A+azF3rv5BRRRW554UUUUAFFFFABRRRQAUUUUAFFFFABRRRQAUVastMu9Q3/AGOEybPvfMBj8zUl1o2oWcfmXNq6oOrDBA/Kp5le1zT2c3Hms7FGiinJG8rhI1Z2PRVGSaogbRSkEEgjBHUUAFmAUZJOAKAEoqzeafc6e6JeReWzruA3A8fhVakmnsOUXF2aCiiimSFFFFABRRUkNvLcFhBGz7F3NtHQetIaTeiI6KKKYgqlqjYt1Hq1Xaz9VPyxj3Nc+JdqMj0srjzYyC8/0M2iiivBP0EKKKKACiiigAooooAKKKKACiiigAooooAKKKKACiiigArS0luJF+hrNq/pR/fOP9mplsa0fjRqUUUViegFFFFABRRWmvh3VWUMtoxBGR86/wCNNRb2RMpwh8TsZlFSz281rKYriNo3HVWGKipFJpq6CinmKQRCUowjJwGxwT9aZQAUVZtNOur5ZDaxGQRjLnIAH51W6U7MSkm7JhRRRSGFFFFABRRTo43lkCRIzuxwFUZJoAbRVm4068tED3NtJEp6Fl4qtTaa3EpKSumFFFFIYUUUUAFFFFABRRRQAUUUUAFFFFAHY+CZM2t1H/dcN+Y/+tRVfwS+Li7T1VT+RP8AjRXpUXemj5nHK2Il/XQ6+iiitjiOU8cH5bMe7/0rka6zxx1sv+B/+y1ydehR+BHzGP8A94l8vyCiiitjhCiiigAooooAKKKKACiiigAooooAKKKKAN7RGK6FqzKSCIxgg9KPDN5PJqgtZZGlhmVldHOR0qHRr+ztrO8tr4yBbhQuY1yRU0Go6VpSSSaYs8tyylVeXACflWEk/eVtz0acklTlzWS3+8fp9ha+RM/2GW/mExQIpKqqjvmr0Nlaab4ptFjt2HnxblUv/qm5z9elZ9rqdlJokVndT3Fu8TszGEf6zJJ5/OpZtasDqWn3cPmgW6+WyMOi+ue55qWpNs1hKlGMXp07fPz/AK0G28FjdX19MLGWZlbEdsrHBPclqmurC0sbzTbk2bxec5D25k+6exz+NRw6npqW95aLcXEMcsvmrMi4Y5Ayp/Ko7zU9OltLJIGnzaS5G8ZLgnJJNHvXFemobq/y3v8A5fI0LiDT77WtQa8hcLbR5YiQnJz1A7Vn2cOnXclzPb6fNNt2iK2BOOnJLUxtYtjdarIN+27TbH8vf3pNL1K0TR5bG5mmtmaTeJIRywx0o5ZJfcJ1Kcp9Ovb5Fq90e1j1HS8W7QLdPiSBmztwR3/GpYrHQ57y7tBbSoLUF2l8zk46jFQS6vpp/s5omnH2KXOGXJZTjJz68VTttUt4tQ1GZ9+25jkVMDuemaLSa6jc6MZaWs3+n+ZPPZWGoaStzptu1u4nWIqz5yDWj/YVmlytk2nXDqRhrsPwD649KxLXU47bRHtxu8/z1lXjjitGXVdMuLoX0s10HwN1sD8pOPX0oaktApyotXdr6X287/1uc/eW5tL2a3Y5MTlc+uDXQaDfedp95bC3hjEdsSXQfM31rnbiXzrmSULtDuW256ZPSr2j38NiLvz9376Aou0Z5rWcW4nJQqKFW60Wpm0UUVocoVm6r96P6GtKszVfvx/Q1y4v+Cz1sn/32Pz/ACKFFFFeGfehRRRQAUUUUAFFFFABRRRQAUUUUAFFFFABRRRQAUUUUAFXdL/4+W/3apVc0v8A4+j/ALppS2NKXxo16KKKwPRCiiigBR94fWt7xJPNFf24ildB9nQ/KxFYI4IroL290TUZIpbl7tXSNUIRRjitYfC1c5q2lSMrXWpJdY1LQtMnvWIcymJpAMsVzj+lWl0ayuVuI102a3SNCY7hnPzEe1Z76/At/Yi3gZbO0Pyqep4xmrcesaXDfyzm4upzOGX5xxED6Ctk4N6nFKNaK91Nbtff5EMstqfBkA+zkZlKg7z8rd29/pVy20ewmmS3TTZ2hKc3bMV5x6VlwajYppK2zmQvb3Hmx/Lw4z39Kvtremf2ol+ZrqRuMQn7qcYJoTi7Xt0CcaquoJ7vv8hlk9ta+HtSQwM3lS7HIkIL84B9qg1S20qxsoUWB/tNxCrBtxIT3qCXUbRbHUreFpG+0yh4yVx3yc0y/wBUgnvrCeJWZbZEDqwxkqckVDlG1jWNOfPza6u/4L9TYt9HsZ5RbJps/klP+PtmI5x6Vn2dnp0Oi3F3fQvM0NyY1CvjdwMD9auHWtMGqLftPdyt2iP3Y+MVmXN/a/2Tc2cDSMZLoyozLj5cD/Cqk4LXQzpxrPR31t3+ZoTW+iW32OVrORvtoBCeZxGD/wDrpsHh6BdQv2eOSeG2IEcKH5nJ5xms281GGePTAm7NqgWTI7g9q0Br9rJe3ySGVLa6wQ6cMhA60rwb1/rQpwrRj7t/6f8AkR6tpMK6UL6G0ls3V9rwu2c+4rP0e/On3MjxwGWWSMpHg8qT3qfUbyy+wLa2jzXDltzzSk/kBTdAvrTT7ySe8D52bYyqg7Se9Q7c6tobRUvYNSTfl/WppE3Fl4fuxrE257gDyoXbLA+vtXMVr30mkzrLKtzeS3DDIMijBPvWRU1HqjTDxsm3u/KwUUUVmdIUUUUAFFFFABRRRQAUUUUAFFFFAHSeCj/xNJx/0x/9mFFN8F/8hib/AK4H/wBCWivRw/wHzmYfx38jtqKKK3PPOU8bj5LM+7j+VcjXZ+NkzY2z+khH6f8A1q4yvQo/Aj5nMFbEP5fkFFFFbHAFFFFABRRRQAUUUUAFFFFABRRRQAUUUUAFFFFABRRRQAUUUUAFFFFABRRRQAUUUUAFFFFABRRRQAVm6r96P6GtKs/VR8kZ9zXLiv4LPVyl2xsPn+TM2iiivDPvgooooAKKKKACiiigAooooAKKKKACiiigAooooAKKKKACrul/8fLf7tUqv6UP3sh9qmWxpS+NGpRRRWJ6IUUUUAFFFFABRRRQAUUUUAFFFFABRRRQAUUUUAFFFFABRRRQAUUUUAFFFFABRRRQAUUUUAFFFFABRRRQB0ngof8AEznPpDj/AMeFFS+CEzNdv6Ko/Mn/AAor0aH8NHzWYO+IfyOvooorc4TB8YR79E3f3JAf6Vwlej+IYvO0G5A6hdw/CvOK7sO/dPnsyjasn3QUUUV0HlhRRRQAUUUUAFFFFABRRRQAUUUUAFFFFABRRRQAUUUUAFFFFABRRRQAUUUUAFFFFABRRRQAUUUUAFUtTXNsD6NV2q9+u6zf25rGur0pI7cBPkxVN+aMWiiivnz9GCiiigAooooAKKKKACiiigAooooAKKKKACiiigAooooAK0tJX5ZG9wKza19MXFrn+81TLY2oK8y5RRRWJ3hRRRQAUUUUAFFFFABRRRQAUUUUAFFFFABRRRQAUUUUAFFFFABRRRQAUUUUAFFFFABRRRQAUUUUAFFFFAHZeCo8WdzJ/ekC/kP/AK9FW/CcXl6GrHq7lqK9SkrQR8ti5c1eTNuiiitDlI7iIT2ssR6SIV/MV5WwKsVIwQcEV6xXm+vW/wBm1y6QDAL7x9Dz/WurDvVo8fNIe7GZnUUUV2HhBRRRQAUUUUAFFFFABRRRQAUUUUAFFFFABRRRQAUUUUAFFFFABRRRQAUUUUAFFFFABRRRQAUUUUAFNkXfEy/3gRTqKTV1YqLcWmjnelFS3SeXdSL71FXzclyto/Tac1UgprqFFFFI0CiiigAooooAKKKKACiiigAooooAKKKKACiiigArdtE2WkY/2c/nWJGm+RV/vHFdCBgYFZzOrDrVsKKKKzOsKKKKACiiigAooooAKKKKACiiigAooooAKKKKACiiigAooooAKKKKACiiigAooooAKKKKACiiigAooqeytzdX8EA/5aSBT9M01qxNpK7PRdIh+z6Pax9CIwT+PNFXAAAAOAOlFeslZWPj5S5pOXcKKKKZIVxvjS12XkFyBxIu0/Uf/rrsqx/FFmbvQ5GUZeE+YPoOv6VrSlyzRyYyn7ShJfM8+ooor0T5UKKKKACiiigAooooAKKKKACiiigAooooAKKKKACiiigAooooAKKKKACiiigAooooAKKKKACiiigAooooAytUj2zq/ZhVKtjUY/MtSR1Q5rHrw8XDlqvzPvMnre1wiXWOn9fIKKKK5T1wooooAKKKKACiiigAooooAKKKKACiiigAooooAtadHvuweyjNbNUdLi2wtIerHA+gq9WMnqd9GNoBRRRUmwUUUUAFFFFABRRRQAUUUUAFFFFABRRRQAUUUUAFFFFABRRRQAUUUUAFFFFABRRRQAUUUUAFFFFABW74StfP1nzSOIVLfieKwq7bwdaeVpj3DDmZ+PoOP55rajHmmjjxtTkoPz0Oiooor0j5gKKKKACmugkjZGGQwIIp1FAHl19atZ301u3WNiB9O1V66jxnYbLiK9QfLINj/UdP0/lXL16cJc0Uz5HEUvZVXAKKKKswCiiigAooooAKKKKACiiigAooooAKKKKACiiigAooooAKKKKACiiigAooooAKKKKACiiigAooooARlDqVPQjFYEiGORkPVTiugrL1OHbIsoHDcH61wY2nzQ5l0PoMjxHJWdJ7S/NFGiiivIPswooooAKKKKACiiigAooooAKKKKACiiigAoALMAOpoq3p0PmXO4/dTn8aTdkVGPM7GrDH5UKIP4RT6KKwPTWisFFFFABRRRQAUUUUAFFFFABRRRQAUUUUAFFFFABRRRQAUUUUAFFFFABRRRQAUUUUAFFFFABRRRQAUUUUAPijaaZI4xlnIAFen2lutpZxQJ0jQLXF+ErH7TqhnYZS3Gf+BHp/Wu6ruw0bLmPCzKreaproFFFFdR5IUUUUAFFFFAFTVLIahps1uerL8vse1eZOhjdkcYZTgj0NesVxHi7Tfs18LuJcRz/ex2b/AOvXTh52fKeRmVHmiqq6HO0UUV2nghRRRQAUUUUAFFFFABRRRQAUUUUAFFFFABRRRQAUUUUAFFFFABRRRQAUUUUAFFFFABRRRQAUUUUAFRXMPn27J3xkfWpaKmUVJWZpTnKnNTjujnSMHBoq5qMHlz7wPlf+dU6+eqQcJOLP0fD144ilGrHqFFFFQdAUUUUAFFFFABRRRQAUUUUAFFFFABW1Yw+TbDP3m5NZtjB59wMj5V5NbdZzfQ68PD7QUUUVmdQUUUUAFFFFABRRRQAUUUUAFFFFABRRRQAUUUUAFFFFABRRRQAUUUUAFFFFABRRRQAUUUUAFFFFABR1orY8Nab/AGhqitIMww/O3uewqoxcnZEVKipwc30Ot8P2H9n6TGjDEknzv9TWnRRXqxSirI+SnNzk5PqFFFFMgKKKKACiiigAqpqdgmpafJbScFhlW/unsat0U07O6JlFSTi9jymaF7eZ4pV2uhKsPemV1vi/SemowL7Sgfoa5KvShJTjc+TxFF0ajgwoooqzAKKKKACiiigAooooAKKKKACiiigAooooAKKKKACiiigAooooAKKKKACiiigAooooAKKKKACiiigCK4hE8JQ9eoPoaw2UqxVuCDg10NZupW2D5yd/vf415+Mo80eddD6LJMZ7OfsJvR7ev/BM+iiivJPsQooooAKKKKACiiigAooooAKOtFXdOtvNk8xx8q9Pc0m7IqMXJ2Resrf7PAAfvNy1WKKKw3PSilFWQUUUUDCiiigAooooAKKKKACiiigAooooAKKKKACiiigAooooAKKKKACiiigAooooAKKKKACiiigAooooAUAswCjJJwAO9ei6Fpg0zTUjYfvX+aQ+/p+Fc54T0n7RdfbZl/dRH5M/xN/9au1rtw9Oy5meHmOIu/ZR6bhRRRXWeQFFFFABRRRQAUUUUAFFFFADZY1miaOQbkYYIPcV5xrWlvpV+0RBMTcxt6ivSaoaxpceq2LQtgOOY29DWtKpyPyOLGYb28NN1sea0VJcQSWtw8M6lJEOGBqOvQPmGmnZhRRRTEFFFFABRRRQAUUUUAFFFFABRRRQAUUUUAFFFFABRRRQAUUUUAFFFFABRRRQAUUUUAFFFFABSModSrDIIwaWiluNNp3RhXMDW8xU8jqD6ioq3Lq3FxFt6MPumsRlKMVYYI6ivExFH2UtNmfe5bjli6VpfEt/8xKKKK5T1QooooAKKKKACiigAk4HJoAfDE08oROp/St2KNYYlRegFQ2Vr9njy3326+3tVmspO530afKrvcKKKKg2CiiigAooooAKKKKACiiigAooooAKKKKACiiigAooooAKKKKACiiigAooooAKKKKACiiigAooooAKtadYS6lfJbwjluWP90dzVdEaRwiKWZjgADqa9B0DSBpVl84BuJBmQ+ntWtKnzy8jkxeIVCF+r2NC1to7O1jt4RhIxgVLRRXp7HzDbbuwooooEFFFFABRRRQAUUUUAFFFFABRRRQBheJNC/tGH7RbAC5jHT++PT61wjKVYqwwQcEHtXrFcx4l8PecHvrJf3g5kjH8XuPeuqjVt7rPIx2D5v3tPfqcbRRRXYeCFFFFABRRRQAUUUUAFFFFABRRRQAUUUUAFFFFABRRRQAUUUUAFFFFABRRRQAUUUUAFFFFABRRRQAVTvrTzl8yMfOOo9auUVnUpxqR5ZHRh8RPD1FUhujnaK0r+yzmaIc/xAfzrNrwqtKVKXKz9AwmKp4qnzw+a7BRRRWR1hRRRQAVp6fZ7cTSjn+EenvUdhZb8Syj5f4R61qVnKXRHVRpfaYUUUVmdYUUUUAFFFFABRRRQAUUUUAFFFFABRRRQAUUUUAFFFFABRRRQAUUUUAFFFFABRRRQAUUUUAFFFFABRRXUeGvD5lK316uEBzHGR973PtVwg5uyMq1aNGHNIteGNCNuovrxcSsP3aH+Eev1rpqKK9KEVBWR8vWrSrT55BRRRVmIUUUUAFFFFABRRRQAUUUUAFFFFABRRRQAUUUUAcr4i8N7915p6fN1kiHf3Fch0616zXN6/4ZF3uurABZurR9n+nvXVSrW92R42MwN/3lL5o4qilZWRyrgqynBBHSkrsPECiiigQUUUUAFFFFABRRRQAUUUUAFFFFABRRRQAUUUUAFFFFABRRRQAUUUUAFFFFABRRRQAUUUUAFZ17Y9ZYR/vLWjRWVWlGrHlkdeFxVTC1OeH/AA5ztFad5Yb8yQjDd19azCMHB614dWlKlKzPvMJjKWLhzQ+a7BV6ysTJiSYYTsPWnWen5xJOOOoWtOuaUuiPWpUftSADAwKKKKzOsKKKKACiiigAooooAKKKKACiiigAooooAKKKKACiiigAooooAKKKKACiiigAooooAKKKKACiiigAooHPSus0Dwx9y71JfdIT/M/4VcIObsjGtXhRjzSIfD3hw3BW7v1Ii6pGf4/c+1dkAAAAMAdBR0or0oQUFZHzNevOvLmkFFFFWYBRRRQAUUUUAFFFFABRRRQAUUUUAFFFFABRRRQAUUUUAFFFFAGRrPh+31RTImIrjHDgfe+tcLe2Nxp85iuoyjDoex+hr1Gq95Y29/AYrqMOp6eo+hrenWcdHsedisDGt70dGeXUVuat4YudP3S2+Z4BzkD5lHuKw67YyUldHz9SnOlLlmrBRRRVGYUUUUAFFFFABRRRQAUUUUAFFFFABRRRQAUUUUAFFFFABRRRQAUUUUAFFFFABRRRQAUUVq6VoF3qjBlHlQ95GHX6etS5KKuy4U5VJcsVdmdBby3UyxW8bSO3QKK6SPwHG9p5s0gF71GOVHsfX610mm6Va6XCEtk+b+KQ/eartcNaoqi5eh9HgcK8LJVb+9/X3nl13Zz2M5huoyjD16H6VBXp99YW+oQGK6jDDse6/Q1xWreG7rTt0kWZ4BzuUcqPcV5NSi46rY+yw2OhV92WjMWiiiuc9AKKKKACiiigAooooAKKKKACiiigAooooAKKKKACiiigAooooAKKKKACiiigAooooAKKKKACpbe2mu5hFbRtI7dAK0dK8PXepkPjyoO8jDr9B3rt9P0y10yER2yYP8Tnlm+prenRc9XscGJxsKOkdWZui+GobALNdbZbjqP7qfSt2iiu+MVFWR8/Uqzqy5psKKKKozCiiigAooooAKKKKACiiigAooooAKKKKACiiigAooooAKKKKACiiigAooooAKw9V8L2l8Wlt8W8x5JUfKx9xW5RVRk4u6M6lKFWPLNXPM9Q0m702TbcxEL2ccqfxqlXq8kaSoUkUOp6hhkGue1LwhbXGZLF/s8n908qf8K6oV09JHi18tlHWk7+RxNFXr7Rr7TyftELbf768r+dUa6U09UeXKMoO0lYKKKKZAUUUUAFFFFABRRRQAUUUUAFFFFABRRRQAUUUUAFFFFABRRVqz027v322sDP/tYwB+NJtLcqMXJ2SKtWLOwub+YR2sLSHuQOB9T2rqdO8GxpiTUpPMP/ADzTgfie9dJBbxW0Qjt41jQdlGK5510vhPTo5bOWtTRfiYGl+EYLfbJqBE8nXYPuj/GuiACqAoAA4AHalorklJyd2e3SowpK0EFFFFSahRRRQBhap4Wtb0tLa4t5jzwPlJ+lcff6Xd6dLsuoio7OOVP0Nem02SJJoykqK6nqGGRWE6EZarQ9ChjqlLSWqPKaK7XUfCFvPmSwfyH/ALjcqf8ACuXvtIvdPY/aYWC/3xyv51xTpShue1RxVKt8L17FKiiiszpCiiigAooooAKKKKACiiigAooooAKKKKACiiigAooooAKKKKACirdnpl3fti1gZx/e6AfjXTad4OijxJqMnmt/zzThR9T3rSFOU9jnrYqlR+J6nL2Wn3WoSiO1iZz3PYfU112l+E7e12yXxE8g52/wj/Gt6GCK3jEcEaxoOgUYp9dkKEY6vU8Wvj6lTSOiAAAAAYA6AUUUV0HnBRRRQAUUUUAFFFFABRRRQAUUUUAFFFFABRRRQAUUUUAFFFFABRRRQAUUUUAFFFFABRRRQAUUUUAFFFFAAQCMEZHoayL/AMM6de5YR+RIf4ouP06Vr0U1Jx2InThUVpq5w954OvYcm1dZ19PumsS4s7i0bbcwSRH/AG1IzXqdI6LIpV1DKeoIyDXRHESW55tTLKcvgdjyeivRrnw7plzktbKhPeP5aybjwTE3NrdMns65rZV4Pc4Z5dWjtqcfRW/N4O1GP/VNDKPZsH9RVGXQNUh+9ZyH/d+b+VaKpF7M5ZYetHeLM6ipns7mM4e3lX6oajMbr1Rh9RVXRi4tbjaKXBHakwT0piCinBGPRWP0FPW0uHPyQSH6IaVwSb2IqK0ItC1Ob7llL9WGP51dh8IanL/rBFD/AL75/lmpc4rdm0cPVltFmFRXXW/gkAg3V4T7Rrj9TWrbeGdMt8HyPNI7yHNZuvBbHVDLq8t9DgIYJrh9kETyN6IpJrZs/CWoXGDOFt1/2jk/kK7mOKOFNsMaovoowKfWMsQ3sd1PLILWbuYdj4UsLQhpwblx/f8Au/l/jW2iLGoWNQqjoAMClorCUnLc9KnShTVoKwUUUVJoFFFFABRRRQAUUUUAFFFFABSEBhhgCPQ0tFAGPfeGNPvcssf2eQ/xRcD8ulc/eeEL2HJtmW4X0HBruKKylRhLodlLGVqeid15nltxa3Fq+25hkiPo6kZqGvVnRJFKyKrKeoYZFZtz4c0y5yWtxGfWM7a55YZ9GehTzOL+OP3HndFdfceCozza3bJ7Ouaz5vB+pR/6owyj/ZfB/WsXRmuh2RxtCX2jAorRl0HVIfv2ch/3Ru/lVR7O5jOHgkX6oahxa3R0RqQls0Q0U4xuOqMPqKTBHUVJYlFLjPSlCOeisfoKAG0VMlpcOfkgkb6IatRaFqc33LOX6sMfzpqLeyIlUhHdmfRW7D4Q1OT/AFnlQj/afP8ALNaNv4JUc3V2T7Rrj9TWiozfQ55YyhH7RyNSQ281y+y3ieVvRFJrv7bw1plvg+R5hHeQ5rTjiSJAsSKijsowK2jhn1ZyVMzivgjc4ez8JX9xg3G23X/aOT+QrfsfCun2hDSqbmQd5Og/Ctuit40YRPOq42tU0vZeQiqqKFRQoHQAYpaKK2OMKKKKACiiigAooooAKKKKACiiigAooooAKKKKACiiigAooooAKKKKACiiigAooooAKKKKACiiigAooooAKKKKACiiigAooooAKKKKACiiigAooooAKaYo26xqfqtOooAj+zwnrDH/AN8ij7PCOkMf/fIqSii7FyoYIYx0jUfRRTwMdKKKB2CiiigAooooAKKKKACiiigAooooAKKKKACiiigAooooAKKKKACiiigAooooAKKKKACiiigAo60UUAMMUZ6xqfqtJ9nhP/LKP/vkVJRQO7I/s8P/ADxj/wC+RSiKMdI1H0UU+igLsOnSiiigQUUUUAFFFFABRRRQAUUUUAFFFFABRRRQAUUUUAFFFFABRRRmgAopM0UALRSUUALRSUUALRRRQAUUUUAFFFFABRRRQAUUUUAFFFFABRRRQAUUUUAFFFFABRRRQAUUUUAFFFFABRRRQAUUUUAFFFFABRRRQAUUUUAFFFFABRRRQAVFc3MNnayXN3KkMMSl5JHOFUDqSalrzX4/Tyw/CO+WKRoo5p4Ip3B6RtIA36UAL/wvDw/Ksk+n6Trt/p8TMH1C2sC0PB5IOcke4Fdt4f8AEOl+KdFh1XQ7tLq0mHyuvY9wR2I9Kn0uxtLDRrWysIY4rSGFY4o0HyhQMAflXz/Jf3Ph3RvigPDV1JZW1trtp9me2crsZ5FEoXHTPAP1oA+jKoWGt6fqd9fWdjcrNcafIIrlF6xsRkA/ga43x5rF/Yar4Ejs72aAXurJFcLG5HnJ5ZJVvUZrgvDyzeBdT+J3iBNW1O/k0dtqRXU+9LhzEpV5BjlgcAHsKAPfqK+aR4t1qw0e08RaX4i8Xapr7Mktzp89hKbGZScsiJtwoAPDCu1ubXxD4x+MmsaRD4o1PSNItLO0umgtJCrFmH3Qf4Qec460Aew1jav4o0/RNa0jS73zftGrytDbbEyNyruOT24FaV5e2un2xuNQuYbWBSAZZ5Aigk4AyeOSQK86+IpB+J/w5IOQdQmIx/1xNAHplZmpa7b6Xqmm2M8NxJJqUjRxNFEWVCBnLn+EV5Xomm658T7TV/E0vi7WdHSK8ng0y00648qKJYzgNIuPnJ75qHRfHWu65H8N57q9eOa71G7tL8Qnalz5QKgkDgg4z9TQB7bRXhnh7RfE/jmfxlNc+N9a0+DTdavILCGzuNmwq5xuPUoOAF6da9D+FOvX3ib4YaNqmqyebeTQ4lkxjeQSMn34oA7CiiigAooooAKKKKACiiigAooooAKKKKACiiigAooooAKKKKACiiigAooooAKKKKACiiigAooooAKM0U0mgBaTNNJphagCTdSbqhMlNMtAE+6jdVcy0nm0AWd1FVvNooAvUUUUAFFFFABRRRQAUUUUAFFFFABRRRQAUUUUAFFFFABRRRQAUUUUAFFFFABRRRQAUUUUAFFFFABRRRQAUUUUAFFFFABRRRQAUUUUAFZ2v6HY+JNBu9I1WLzbS7jMci9D9R6EVo0UAeXWfw/+IWkWK6PpHxBiXSo18uF7nThJcQp0Cht2DgcZ4+lan/Cp9Lj+GV74RtrqZTet501+43SPPuDeafU7gOK72igDy5Phh4n1HXtA1PxR4wivf7CuFlgt4LARo6gYO75s7jxz2rTHw1kfxJ4omudUSXQ/EsRF1p5t8OsmwJuEmemAeMd676igDzC1+G3i3+z7PQdQ8abvD9my7VtrYxXUqKflRpA3A7EjrXVaZ4SOnfEDWPEv2zzF1K2hgFv5eDH5Y67s85+grpaKAMHxt4Wh8aeEL3QridrcXKqUmQZMbqwZWx3wQK5XRfh14hk8VaTrPjXxLDqv9io62MFtaeSNzLt3ucnJxXpFFAHmTfDbxNpFxqtt4N8UwabpGqzvPJbXFl5r27v9/wAttw6+/Sr9r8LLXTk8Hw6bfNFB4amkmKvHua5Zx8xJyNpJJPQ9a76igDl/CPg1vC0OvI18Lr+19TuL8ERbPK8052dTnHrxn0qbwF4VPgrwVYaA12L02ilfPEfl78kn7uTjr610VFABRRRQAUUUUAFFFFABRRRQAUUUUAFFFFABRRRQAUUUUAFFFFABRRRQAUUUUAFFFFABRRRQAUUUGgBKYTTiajY0ANZsVzfi/wARNoOmq1uAbmZise7kDHU/y/Ot6R8V558Sm3Npv/bX/wBkqKjai2jlxdSVOhKUdzl5fEWszSF31S7BP92ZlH5A4pn9u6v/ANBS9/8AAh/8aoUVxXZ8v7Sfdl7+3dW/6Cl7/wCBD/40f27q3/QUvf8AwIf/ABqjRRdh7Sfdl7+3dW/6Cl7/AOBD/wCNFUaKLsPaT7s+i6KKK9A+yCiiigAooooAKKKKACiiigAooooAKKKKACiiigAooooAKKKKACiiigAooooAKKKKACiiigAooooAKKKKACiiigAooooAKKKKACiiigAooooAKKKKACiiigAooooAKKKKACiiigAooooAKKKKACiiigAooooAKKKKACiiigAooooAKKKKACiiigAooooAKKKKACiiigAooooAKDRRQAxqhkNFFAFSZq89+IrZbT/+2v8A7LRRWdX4GcWP/wB2l8vzRxVFFFcR8sbXhLTLbV/EkFneqzQuGLBWweB61pWvgK+1WaeWwlt47VbmSFRI7blCsR6c/nRRW1OKktT1cJh6daCUl1f6DNQ+H2rabpc99PLbFYAWZEcklR3HH6UUUUqkVF6GOOoQoTSh2P/Z)\n",
        "Note: Even though you’re learning about merging, you’ll see inner, outer, left, and right also referred to as join operations. For this tutorial, you can consider the terms merge and join equivalent.\n",
        "\n",
        "You’ll learn about these different joins in detail below, but first take a look at this visual representation of them:\n",
        "\n",
        "Venn Diagram of Join Operations"
      ],
      "metadata": {
        "id": "ZZ-DR-ZaSHsp"
      }
    },
    {
      "cell_type": "markdown",
      "source": [
        "*Duplicated Rows*\n",
        "Description\n",
        "The given Dataframe 'rating' has repeated rows. You need to remove the duplicated rows. "
      ],
      "metadata": {
        "id": "572WyV8ETNyW"
      }
    },
    {
      "cell_type": "code",
      "source": [
        "import pandas as pd\n",
        "rating = pd.read_csv('https://media-doselect.s3.amazonaws.com/generic/JPAqXRWexo7nybkQ7BjPLWVN/rating_final.csv')\n",
        "\n",
        "rating_update = rating[rating.duplicated()]\n",
        "#Type your code here\n",
        "\n",
        "print(rating.shape)\n",
        "print(rating_update.shape)"
      ],
      "metadata": {
        "colab": {
          "base_uri": "https://localhost:8080/"
        },
        "id": "jaqh5sez4wAL",
        "outputId": "f96ebd98-6894-4ab9-aee2-3d9340aac8ea"
      },
      "execution_count": null,
      "outputs": [
        {
          "output_type": "stream",
          "name": "stdout",
          "text": [
            "(1254, 5)\n",
            "(105, 5)\n"
          ]
        }
      ]
    },
    {
      "cell_type": "code",
      "source": [
        "rating=rating.drop_duplicates(keep='first')\n",
        "rating.shape"
      ],
      "metadata": {
        "colab": {
          "base_uri": "https://localhost:8080/"
        },
        "id": "cFM60eSQ4wCG",
        "outputId": "c5ab3cbc-85ba-41e9-eb7d-b30efdfd0417"
      },
      "execution_count": null,
      "outputs": [
        {
          "output_type": "execute_result",
          "data": {
            "text/plain": [
              "(1149, 5)"
            ]
          },
          "metadata": {},
          "execution_count": 25
        }
      ]
    },
    {
      "cell_type": "markdown",
      "source": [
        "https://jovian.com/sayondeepchoudhury/sachin-tendulkar-batting-analysis"
      ],
      "metadata": {
        "id": "NuyfXGAOKCIC"
      }
    },
    {
      "cell_type": "code",
      "source": [
        "\n"
      ],
      "metadata": {
        "id": "WMqD8B3V4wEN"
      },
      "execution_count": null,
      "outputs": []
    },
    {
      "cell_type": "code",
      "source": [],
      "metadata": {
        "id": "mwqzTtE_4wGj"
      },
      "execution_count": null,
      "outputs": []
    },
    {
      "cell_type": "code",
      "source": [],
      "metadata": {
        "id": "h-gGwujn4wI6"
      },
      "execution_count": null,
      "outputs": []
    },
    {
      "cell_type": "code",
      "source": [],
      "metadata": {
        "id": "o762aUjs4wN6"
      },
      "execution_count": null,
      "outputs": []
    },
    {
      "cell_type": "code",
      "source": [],
      "metadata": {
        "id": "rukwz4DG4wUF"
      },
      "execution_count": null,
      "outputs": []
    },
    {
      "cell_type": "code",
      "source": [],
      "metadata": {
        "id": "1oq6CPFS4wWN"
      },
      "execution_count": null,
      "outputs": []
    }
  ]
}